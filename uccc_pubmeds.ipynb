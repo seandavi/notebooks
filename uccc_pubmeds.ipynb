{
  "nbformat": 4,
  "nbformat_minor": 0,
  "metadata": {
    "colab": {
      "provenance": [],
      "authorship_tag": "ABX9TyM7XLpkvJyg1qlg7ET3fbMO",
      "include_colab_link": true
    },
    "kernelspec": {
      "name": "python3",
      "display_name": "Python 3"
    },
    "language_info": {
      "name": "python"
    }
  },
  "cells": [
    {
      "cell_type": "markdown",
      "metadata": {
        "id": "view-in-github",
        "colab_type": "text"
      },
      "source": [
        "<a href=\"https://colab.research.google.com/github/seandavi/notebooks/blob/main/uccc_pubmeds.ipynb\" target=\"_parent\"><img src=\"https://colab.research.google.com/assets/colab-badge.svg\" alt=\"Open In Colab\"/></a>"
      ]
    },
    {
      "cell_type": "code",
      "execution_count": 42,
      "metadata": {
        "id": "K9-FhxJ2J34e"
      },
      "outputs": [],
      "source": [
        "!pip install -q biopython httpx polars spacy openpyxl scikit-learn"
      ]
    },
    {
      "cell_type": "code",
      "source": [
        "import polars as pl\n",
        "\n",
        "# Load your Polars DataFrame with a 'pmid' column\n",
        "df = pl.read_csv(\"uccc_pubmeds.csv\", low_memory=False, ignore_errors=True)\n",
        "df.columns = [x.lower() for x in df.columns]\n"
      ],
      "metadata": {
        "id": "bxYUcyKRKCQx"
      },
      "execution_count": 10,
      "outputs": []
    },
    {
      "cell_type": "code",
      "source": [
        "df"
      ],
      "metadata": {
        "colab": {
          "base_uri": "https://localhost:8080/",
          "height": 984
        },
        "id": "u1i8Ycy8LcfQ",
        "outputId": "e326cfb6-062a-4bac-e02f-ba059d6f2cc1"
      },
      "execution_count": 11,
      "outputs": [
        {
          "output_type": "execute_result",
          "data": {
            "text/plain": [
              "shape: (2_153, 55)\n",
              "┌─────────────┬─────────────┬──────────┬──────────┬───┬────────────┬──────────┬───────┬────────────┐\n",
              "│ journal_abb ┆ currentcomp ┆ annualif ┆ reportyr ┆ … ┆ date_publi ┆ abstract ┆ year3 ┆ journal_if │\n",
              "│ r           ┆ ositeyrif   ┆ ---      ┆ ---      ┆   ┆ sh         ┆ ---      ┆ ---   ┆ 4          │\n",
              "│ ---         ┆ ---         ┆ f64      ┆ i64      ┆   ┆ ---        ┆ str      ┆ str   ┆ ---        │\n",
              "│ str         ┆ str         ┆          ┆          ┆   ┆ str        ┆          ┆       ┆ str        │\n",
              "╞═════════════╪═════════════╪══════════╪══════════╪═══╪════════════╪══════════╪═══════╪════════════╡\n",
              "│ Int J       ┆ 7           ┆ 5.554    ┆ 2021     ┆ … ┆ null       ┆ null     ┆ null  ┆ null       │\n",
              "│ Radiat      ┆             ┆          ┆          ┆   ┆            ┆          ┆       ┆            │\n",
              "│ Oncol Biol  ┆             ┆          ┆          ┆   ┆            ┆          ┆       ┆            │\n",
              "│ Phys        ┆             ┆          ┆          ┆   ┆            ┆          ┆       ┆            │\n",
              "│ Nicotine    ┆ 4.7         ┆ 3.786    ┆ 2020     ┆ … ┆ null       ┆ null     ┆ null  ┆ null       │\n",
              "│ Tob Res     ┆             ┆          ┆          ┆   ┆            ┆          ┆       ┆            │\n",
              "│ Ann Surg    ┆ 10.1        ┆ 9.203    ┆ 2020     ┆ … ┆ null       ┆ null     ┆ null  ┆ null       │\n",
              "│ J Pediatr   ┆ 1.2         ┆ 1.06     ┆ 2020     ┆ … ┆ null       ┆ null     ┆ null  ┆ null       │\n",
              "│ Hematol     ┆             ┆          ┆          ┆   ┆            ┆          ┆       ┆            │\n",
              "│ Oncol       ┆             ┆          ┆          ┆   ┆            ┆          ┆       ┆            │\n",
              "│ J Am Acad   ┆ 13.8        ┆ 6.898    ┆ 2020     ┆ … ┆ null       ┆ null     ┆ null  ┆ null       │\n",
              "│ Dermatol    ┆             ┆          ┆          ┆   ┆            ┆          ┆       ┆            │\n",
              "│ …           ┆ …           ┆ …        ┆ …        ┆ … ┆ …          ┆ …        ┆ …     ┆ …          │\n",
              "│ Surgery     ┆ 3.8         ┆ 3.8      ┆ 2023     ┆ … ┆ null       ┆ null     ┆ null  ┆ null       │\n",
              "│ Transplant  ┆ 3.2         ┆ 3.2      ┆ 2023     ┆ … ┆ null       ┆ null     ┆ null  ┆ null       │\n",
              "│ Cell Ther   ┆             ┆          ┆          ┆   ┆            ┆          ┆       ┆            │\n",
              "│ Proc Natl   ┆ 11.1        ┆ 11.1     ┆ 2023     ┆ … ┆ null       ┆ null     ┆ null  ┆ null       │\n",
              "│ Acad Sci U  ┆             ┆          ┆          ┆   ┆            ┆          ┆       ┆            │\n",
              "│ S A         ┆             ┆          ┆          ┆   ┆            ┆          ┆       ┆            │\n",
              "│ Cells       ┆ 6           ┆ 6.0      ┆ 2023     ┆ … ┆ null       ┆ null     ┆ null  ┆ null       │\n",
              "│ Front Vet   ┆ 3.2         ┆ 3.2      ┆ 2023     ┆ … ┆ null       ┆ null     ┆ null  ┆ null       │\n",
              "│ Sci         ┆             ┆          ┆          ┆   ┆            ┆          ┆       ┆            │\n",
              "└─────────────┴─────────────┴──────────┴──────────┴───┴────────────┴──────────┴───────┴────────────┘"
            ],
            "text/html": [
              "<div><style>\n",
              ".dataframe > thead > tr,\n",
              ".dataframe > tbody > tr {\n",
              "  text-align: right;\n",
              "  white-space: pre-wrap;\n",
              "}\n",
              "</style>\n",
              "<small>shape: (2_153, 55)</small><table border=\"1\" class=\"dataframe\"><thead><tr><th>journal_abbr</th><th>currentcompositeyrif</th><th>annualif</th><th>reportyr</th><th>pmid</th><th>pmc</th><th>jrnl</th><th>citation</th><th>pubyear</th><th>member</th><th>prog</th><th>cpc</th><th>dt</th><th>mco</th><th>thi</th><th>coding</th><th>sr</th><th>sr overall</th><th>aisr</th><th>bbsr</th><th>ctsr</th><th>d3sr</th><th>fcsr</th><th>fgsr</th><th>gsr</th><th>himsr</th><th>mssr</th><th>phsr</th><th>psr</th><th>sbsr</th><th>inst</th><th>label</th><th>reporttype</th><th>doi</th><th>pmc2</th><th>title</th><th>journal_nlm</th><th>journal_issn</th><th>journal_full</th><th>journal_vol</th><th>journal_issue</th><th>journal_pages</th><th>author_n</th><th>author_list</th><th>author_list_aff</th><th>author_group</th><th>collab_n</th><th>collab_list</th><th>collab_list_aff</th><th>type</th><th>status</th><th>date_publish</th><th>abstract</th><th>year3</th><th>journal_if4</th></tr><tr><td>str</td><td>str</td><td>f64</td><td>i64</td><td>i64</td><td>str</td><td>str</td><td>str</td><td>i64</td><td>str</td><td>str</td><td>str</td><td>str</td><td>str</td><td>str</td><td>str</td><td>str</td><td>str</td><td>str</td><td>str</td><td>str</td><td>str</td><td>str</td><td>str</td><td>str</td><td>str</td><td>str</td><td>str</td><td>str</td><td>str</td><td>str</td><td>str</td><td>str</td><td>str</td><td>str</td><td>str</td><td>str</td><td>str</td><td>str</td><td>str</td><td>str</td><td>str</td><td>str</td><td>str</td><td>str</td><td>str</td><td>str</td><td>str</td><td>str</td><td>str</td><td>str</td><td>str</td><td>str</td><td>str</td><td>str</td></tr></thead><tbody><tr><td>&quot;Int J Radiat Oncol Biol Phys&quot;</td><td>&quot;7&quot;</td><td>5.554</td><td>2021</td><td>29395629</td><td>&quot;PMC6102100&quot;</td><td>&quot;Int J Radiat Oncol Biol Phys&quot;</td><td>&quot;Ohri N, Tomé WA, Méndez Romero…</td><td>2021</td><td>&quot;Miften-1596&quot;</td><td>&quot;DT, LAPS&quot;</td><td>null</td><td>&quot;X&quot;</td><td>null</td><td>null</td><td>null</td><td>&quot;None&quot;</td><td>null</td><td>null</td><td>null</td><td>null</td><td>null</td><td>null</td><td>null</td><td>null</td><td>null</td><td>null</td><td>null</td><td>null</td><td>null</td><td>&quot;9&quot;</td><td>null</td><td>null</td><td>null</td><td>null</td><td>null</td><td>null</td><td>null</td><td>null</td><td>null</td><td>null</td><td>null</td><td>null</td><td>null</td><td>null</td><td>null</td><td>null</td><td>null</td><td>null</td><td>null</td><td>null</td><td>null</td><td>null</td><td>null</td><td>null</td></tr><tr><td>&quot;Nicotine Tob Res&quot;</td><td>&quot;4.7&quot;</td><td>3.786</td><td>2020</td><td>29741713</td><td>&quot;PMC6751522&quot;</td><td>&quot;Nicotine Tob Res&quot;</td><td>&quot;Urman R, McConnell R, Unger JB…</td><td>2019</td><td>&quot;Samet-1979&quot;</td><td>&quot;CPC-25&quot;</td><td>&quot;Y&quot;</td><td>null</td><td>null</td><td>null</td><td>null</td><td>&quot;none&quot;</td><td>null</td><td>null</td><td>null</td><td>null</td><td>null</td><td>null</td><td>null</td><td>null</td><td>null</td><td>null</td><td>null</td><td>null</td><td>null</td><td>&quot;9&quot;</td><td>null</td><td>null</td><td>null</td><td>null</td><td>null</td><td>null</td><td>null</td><td>&quot;Nicotine &amp; Tobacco Research&quot;</td><td>null</td><td>null</td><td>null</td><td>null</td><td>null</td><td>null</td><td>null</td><td>null</td><td>null</td><td>null</td><td>null</td><td>null</td><td>null</td><td>null</td><td>null</td><td>null</td></tr><tr><td>&quot;Ann Surg&quot;</td><td>&quot;10.1&quot;</td><td>9.203</td><td>2020</td><td>29771723</td><td>null</td><td>&quot;Ann Surg&quot;</td><td>&quot;Torphy RJ, Friedman C, Halpern…</td><td>2019</td><td>&quot;McCarter-1354, Schulick-1932&quot;</td><td>&quot;DT-4&quot;</td><td>null</td><td>&quot;Y&quot;</td><td>null</td><td>null</td><td>null</td><td>&quot;none&quot;</td><td>null</td><td>null</td><td>null</td><td>null</td><td>null</td><td>null</td><td>null</td><td>null</td><td>null</td><td>null</td><td>null</td><td>null</td><td>null</td><td>&quot;9&quot;</td><td>null</td><td>null</td><td>null</td><td>null</td><td>null</td><td>null</td><td>null</td><td>&quot;ANNALS OF SURGERY&quot;</td><td>null</td><td>null</td><td>null</td><td>null</td><td>null</td><td>null</td><td>null</td><td>null</td><td>null</td><td>null</td><td>null</td><td>null</td><td>null</td><td>null</td><td>null</td><td>null</td></tr><tr><td>&quot;J Pediatr Hematol Oncol&quot;</td><td>&quot;1.2&quot;</td><td>1.06</td><td>2020</td><td>30095692</td><td>&quot;PMC6661241&quot;</td><td>&quot;J Pediatr Hematol Oncol&quot;</td><td>&quot;Ross S, Eisenman K, Maloney KW…</td><td>2019</td><td>&quot;Maloney-1525&quot;</td><td>&quot;DT-1&quot;</td><td>null</td><td>&quot;Y&quot;</td><td>null</td><td>null</td><td>null</td><td>&quot;none&quot;</td><td>null</td><td>null</td><td>null</td><td>null</td><td>null</td><td>null</td><td>null</td><td>null</td><td>null</td><td>null</td><td>null</td><td>null</td><td>null</td><td>&quot;9&quot;</td><td>null</td><td>null</td><td>null</td><td>null</td><td>null</td><td>null</td><td>null</td><td>&quot;JOURNAL OF PEDIATRIC HEMATOLOG…</td><td>null</td><td>null</td><td>null</td><td>null</td><td>null</td><td>null</td><td>null</td><td>null</td><td>null</td><td>null</td><td>null</td><td>null</td><td>null</td><td>null</td><td>null</td><td>null</td></tr><tr><td>&quot;J Am Acad Dermatol&quot;</td><td>&quot;13.8&quot;</td><td>6.898</td><td>2020</td><td>30296542</td><td>&quot;PMC6661165&quot;</td><td>&quot;J Am Acad Dermatol&quot;</td><td>&quot;Altieri L, Eguchi M, Peng DH, …</td><td>2019</td><td>&quot;Cockburn-1861&quot;</td><td>&quot;CPC-25&quot;</td><td>&quot;Y&quot;</td><td>null</td><td>null</td><td>null</td><td>null</td><td>&quot;none&quot;</td><td>null</td><td>null</td><td>null</td><td>null</td><td>null</td><td>null</td><td>null</td><td>null</td><td>null</td><td>null</td><td>null</td><td>null</td><td>null</td><td>&quot;9&quot;</td><td>null</td><td>null</td><td>null</td><td>null</td><td>null</td><td>null</td><td>null</td><td>&quot;JOURNAL OF THE AMERICAN ACADEM…</td><td>null</td><td>null</td><td>null</td><td>null</td><td>null</td><td>null</td><td>null</td><td>null</td><td>null</td><td>null</td><td>null</td><td>null</td><td>null</td><td>null</td><td>null</td><td>null</td></tr><tr><td>&hellip;</td><td>&hellip;</td><td>&hellip;</td><td>&hellip;</td><td>&hellip;</td><td>&hellip;</td><td>&hellip;</td><td>&hellip;</td><td>&hellip;</td><td>&hellip;</td><td>&hellip;</td><td>&hellip;</td><td>&hellip;</td><td>&hellip;</td><td>&hellip;</td><td>&hellip;</td><td>&hellip;</td><td>&hellip;</td><td>&hellip;</td><td>&hellip;</td><td>&hellip;</td><td>&hellip;</td><td>&hellip;</td><td>&hellip;</td><td>&hellip;</td><td>&hellip;</td><td>&hellip;</td><td>&hellip;</td><td>&hellip;</td><td>&hellip;</td><td>&hellip;</td><td>&hellip;</td><td>&hellip;</td><td>&hellip;</td><td>&hellip;</td><td>&hellip;</td><td>&hellip;</td><td>&hellip;</td><td>&hellip;</td><td>&hellip;</td><td>&hellip;</td><td>&hellip;</td><td>&hellip;</td><td>&hellip;</td><td>&hellip;</td><td>&hellip;</td><td>&hellip;</td><td>&hellip;</td><td>&hellip;</td><td>&hellip;</td><td>&hellip;</td><td>&hellip;</td><td>&hellip;</td><td>&hellip;</td><td>&hellip;</td></tr><tr><td>&quot;Surgery&quot;</td><td>&quot;3.8&quot;</td><td>3.8</td><td>2023</td><td>37391327</td><td>null</td><td>&quot;Surgery&quot;</td><td>&quot;Stuart CM, Kirsch MJ, Zhuang Y…</td><td>2023</td><td>&quot;Lieu-1716, Messersmith-1552, S…</td><td>&quot;DT&quot;</td><td>null</td><td>&quot;X&quot;</td><td>null</td><td>null</td><td>&quot;0001, 0501&quot;</td><td>&quot;None&quot;</td><td>null</td><td>null</td><td>null</td><td>null</td><td>null</td><td>null</td><td>null</td><td>null</td><td>null</td><td>null</td><td>null</td><td>null</td><td>null</td><td>&quot;9&quot;</td><td>&quot;None&quot;</td><td>&quot;01-Report&quot;</td><td>null</td><td>null</td><td>null</td><td>null</td><td>&quot;0039-6060&quot;</td><td>null</td><td>null</td><td>null</td><td>null</td><td>null</td><td>null</td><td>null</td><td>null</td><td>null</td><td>null</td><td>null</td><td>null</td><td>null</td><td>null</td><td>null</td><td>null</td><td>null</td></tr><tr><td>&quot;Transplant Cell Ther&quot;</td><td>&quot;3.2&quot;</td><td>3.2</td><td>2023</td><td>37394115</td><td>&quot;PMC10529970&quot;</td><td>&quot;Transplant Cell Ther&quot;</td><td>&quot;Holland EM, Yates B, Steinberg…</td><td>2023</td><td>&quot;Fry-1924&quot;</td><td>&quot;THI&quot;</td><td>null</td><td>null</td><td>null</td><td>&quot;X&quot;</td><td>&quot;0000, 0004, 1300, 1304&quot;</td><td>&quot;None&quot;</td><td>null</td><td>null</td><td>null</td><td>null</td><td>null</td><td>null</td><td>null</td><td>null</td><td>null</td><td>null</td><td>null</td><td>null</td><td>null</td><td>&quot;9&quot;</td><td>&quot;None&quot;</td><td>&quot;01-Report&quot;</td><td>null</td><td>null</td><td>null</td><td>null</td><td>&quot;2666-6367&quot;</td><td>null</td><td>null</td><td>null</td><td>null</td><td>null</td><td>null</td><td>null</td><td>null</td><td>null</td><td>null</td><td>null</td><td>null</td><td>null</td><td>null</td><td>null</td><td>null</td><td>null</td></tr><tr><td>&quot;Proc Natl Acad Sci U S A&quot;</td><td>&quot;11.1&quot;</td><td>11.1</td><td>2023</td><td>37406303</td><td>&quot;PMC9963276&quot;</td><td>&quot;Proc Natl Acad Sci U S A&quot;</td><td>&quot;Yuita H, López-Moyado IF, Jeon…</td><td>2023</td><td>&quot;ScottBrowne-1948&quot;</td><td>&quot;THI&quot;</td><td>null</td><td>null</td><td>null</td><td>&quot;X&quot;</td><td>&quot;0000, 1300&quot;</td><td>&quot;None&quot;</td><td>null</td><td>null</td><td>null</td><td>null</td><td>null</td><td>null</td><td>null</td><td>null</td><td>null</td><td>null</td><td>null</td><td>null</td><td>null</td><td>&quot;5&quot;</td><td>&quot;None&quot;</td><td>&quot;01-Report&quot;</td><td>null</td><td>null</td><td>null</td><td>null</td><td>&quot;0027-8424&quot;</td><td>null</td><td>null</td><td>null</td><td>null</td><td>null</td><td>null</td><td>null</td><td>null</td><td>null</td><td>null</td><td>null</td><td>null</td><td>null</td><td>null</td><td>null</td><td>null</td><td>null</td></tr><tr><td>&quot;Cells&quot;</td><td>&quot;6&quot;</td><td>6.0</td><td>2023</td><td>37408209</td><td>&quot;PMC10216321&quot;</td><td>&quot;Cells&quot;</td><td>&quot;Bolf EL, Beadnell TC, Rose MM,…</td><td>2023</td><td>&quot;Schweppe-1540, Hansen-1481, DA…</td><td>&quot;MCO, THI&quot;</td><td>null</td><td>null</td><td>&quot;X&quot;</td><td>&quot;X&quot;</td><td>&quot;0003, 1203, 1302&quot;</td><td>&quot;CTSR-cell lines, BDC Bioresour…</td><td>&quot;X&quot;</td><td>null</td><td>null</td><td>&quot;X&quot;</td><td>null</td><td>null</td><td>null</td><td>null</td><td>null</td><td>null</td><td>null</td><td>null</td><td>null</td><td>&quot;9&quot;</td><td>&quot;None&quot;</td><td>&quot;01-Report&quot;</td><td>null</td><td>null</td><td>null</td><td>null</td><td>&quot;2073-4409&quot;</td><td>null</td><td>null</td><td>null</td><td>null</td><td>null</td><td>null</td><td>null</td><td>null</td><td>null</td><td>null</td><td>null</td><td>null</td><td>null</td><td>null</td><td>null</td><td>null</td><td>null</td></tr><tr><td>&quot;Front Vet Sci&quot;</td><td>&quot;3.2&quot;</td><td>3.2</td><td>2023</td><td>37441554</td><td>&quot;PMC10333581&quot;</td><td>&quot;Front Vet Sci&quot;</td><td>&quot;Gualtieri P, Martin T, Leary D…</td><td>2023</td><td>&quot;Lana-1632, Boss-1871&quot;</td><td>&quot;DT&quot;</td><td>null</td><td>&quot;X&quot;</td><td>null</td><td>null</td><td>&quot;0001, 0501, 0599&quot;</td><td>&quot;None&quot;</td><td>null</td><td>null</td><td>null</td><td>null</td><td>null</td><td>null</td><td>null</td><td>null</td><td>null</td><td>null</td><td>null</td><td>null</td><td>null</td><td>&quot;2&quot;</td><td>&quot;None&quot;</td><td>&quot;01-Report&quot;</td><td>null</td><td>null</td><td>null</td><td>null</td><td>&quot;2297-1769&quot;</td><td>null</td><td>null</td><td>null</td><td>null</td><td>null</td><td>null</td><td>null</td><td>null</td><td>null</td><td>null</td><td>null</td><td>null</td><td>null</td><td>null</td><td>null</td><td>null</td><td>null</td></tr></tbody></table></div>"
            ]
          },
          "metadata": {},
          "execution_count": 11
        }
      ]
    },
    {
      "cell_type": "code",
      "source": [
        "from Bio import Entrez\n",
        "from Bio import Medline\n",
        "\n",
        "# Replace with your actual email address (required by Entrez)\n",
        "Entrez.email = \"seandavi@gmail.com\"\n",
        "\n",
        "def fetch_pubmed_records(pmids):\n",
        "    \"\"\"\n",
        "    Fetches PubMed records for a list of PMIDs.\n",
        "\n",
        "    Args:\n",
        "        pmids: A list of PMIDs (strings).\n",
        "\n",
        "    Returns:\n",
        "        A list of PubMed records as dictionaries.\n",
        "    \"\"\"\n",
        "    # Fetch PubMed records in chunks of size 100\n",
        "    records = []\n",
        "    for i in range(0, len(pmids), 100):\n",
        "        chunk = pmids[i:i + 100]\n",
        "        handle = Entrez.efetch(db=\"pubmed\", id=\",\".join(chunk), rettype=\"medline\", retmode=\"text\")\n",
        "        records.extend(list(Medline.parse(handle)))\n",
        "\n",
        "    return records\n"
      ],
      "metadata": {
        "id": "eBcWOZEwLIfR"
      },
      "execution_count": 12,
      "outputs": []
    },
    {
      "cell_type": "code",
      "source": [
        "# Extract PMIDs as a list of strings\n",
        "pmids_list = df['pmid'].cast(str).to_list()\n",
        "\n",
        "# Fetch PubMed records\n",
        "pubmed_records = fetch_pubmed_records(pmids_list)\n"
      ],
      "metadata": {
        "id": "T6xPuDTQMPRY"
      },
      "execution_count": 20,
      "outputs": []
    },
    {
      "cell_type": "code",
      "source": [
        "pubmed_records[0]"
      ],
      "metadata": {
        "colab": {
          "base_uri": "https://localhost:8080/"
        },
        "id": "CGbJLp99M9NM",
        "outputId": "bdbe2cf8-f5cb-4049-f272-1f19fb51aeb6"
      },
      "execution_count": 21,
      "outputs": [
        {
          "output_type": "execute_result",
          "data": {
            "text/plain": [
              "{'PMID': '29395629',\n",
              " 'OWN': 'NLM',\n",
              " 'STAT': 'MEDLINE',\n",
              " 'DCOM': '20210804',\n",
              " 'LR': '20220508',\n",
              " 'IS': '1879-355X (Electronic) 0360-3016 (Print) 0360-3016 (Linking)',\n",
              " 'VI': '110',\n",
              " 'IP': '1',\n",
              " 'DP': '2021 May 1',\n",
              " 'TI': 'Local Control After Stereotactic Body Radiation Therapy for Liver Tumors.',\n",
              " 'PG': '188-195',\n",
              " 'LID': 'S0360-3016(17)34525-X [pii] 10.1016/j.ijrobp.2017.12.288 [doi]',\n",
              " 'AB': 'PURPOSE: To quantitatively evaluate published experiences with hepatic stereotactic body radiation therapy (SBRT), to determine local control rates after treatment of primary and metastatic liver tumors and to examine whether outcomes are affected by SBRT dosing regimen. METHODS AND MATERIALS: We identified published articles that reported local control rates after SBRT for primary or metastatic liver tumors. Biologically effective doses (BEDs) were calculated for each dosing regimen using the linear-quadratic equation. We excluded series in which a wide range of BEDs was used. Individual lesion data for local control were extracted from actuarial survival curves, and data were aggregated to form a single dataset. Actuarial local control curves were generated using the Kaplan-Meier method after grouping lesions by disease type and BED (<100 Gy(10) vs >100 Gy(10)). Comparisons were made using log-rank testing. RESULTS: Thirteen articles met all inclusion criteria and formed the dataset for this analysis. The 1-, 2-, and 3-year actuarial local control rates after SBRT for primary liver tumors (n = 431) were 93%, 89%, and 86%, respectively. Lower 1- (90%), 2- (79%), and 3-year (76%) actuarial local control rates were observed for liver metastases (n = 290, log-rank P = .011). Among patients treated with SBRT for primary liver tumors, there was no evidence that local control is influenced by BED within the range of schedules used. For liver metastases, on the other hand, outcomes were significantly better for lesions treated with BEDs exceeding 100 Gy(10) (3-year local control 93%) than for those treated with BEDs of </=100 Gy(10) (3-year local control 65%, P < .001). CONCLUSIONS: Stereotactic body radiation therapy for primary liver tumors provides high rates of durable local control, with no clear evidence for a dose-response relationship among commonly utilized schedules. Excellent local control rates are also seen after SBRT for liver metastases when BEDs of >100 Gy(10) are utilized.',\n",
              " 'CI': ['Copyright (c) 2018 Elsevier Inc. All rights reserved.'],\n",
              " 'FAU': ['Ohri, Nitin',\n",
              "  'Tome, Wolfgang A',\n",
              "  'Mendez Romero, Alejandra',\n",
              "  'Miften, Moyed',\n",
              "  'Ten Haken, Randall K',\n",
              "  'Dawson, Laura A',\n",
              "  'Grimm, Jimm',\n",
              "  'Yorke, Ellen',\n",
              "  'Jackson, Andrew'],\n",
              " 'AU': ['Ohri N',\n",
              "  'Tome WA',\n",
              "  'Mendez Romero A',\n",
              "  'Miften M',\n",
              "  'Ten Haken RK',\n",
              "  'Dawson LA',\n",
              "  'Grimm J',\n",
              "  'Yorke E',\n",
              "  'Jackson A'],\n",
              " 'AD': ['Department of Radiation Oncology, Montefiore Medical Center and Albert Einstein College of Medicine, Bronx, New York.',\n",
              "  'Department of Radiation Oncology, Montefiore Medical Center and Albert Einstein College of Medicine, Bronx, New York. Electronic address: wtome@montefiore.org.',\n",
              "  'Department of Radiation Oncology, Erasmus MC Cancer Institute, Rotterdam, The Netherlands.',\n",
              "  'Department of Radiation Oncology, University of Colorado School of Medicine, Aurora, Colorado.',\n",
              "  'Department of Radiation Oncology, University of Michigan, Ann Arbor, Michigan.',\n",
              "  'Radiation Medicine Program, Princess Margaret Cancer Centre and Department of Radiation Oncology, University of Toronto, Ontario, Canada.',\n",
              "  'Department of Radiation Oncology and Molecular Radiation Sciences, Johns Hopkins University, Baltimore, Maryland.',\n",
              "  'Department of Radiation Oncology, Memorial Sloan-Kettering Cancer Center, New York, New York.',\n",
              "  'Department of Radiation Oncology, Memorial Sloan-Kettering Cancer Center, New York, New York.'],\n",
              " 'LA': ['eng'],\n",
              " 'GR': ['P01 CA059827/CA/NCI NIH HHS/United States',\n",
              "  'P30 CA008748/CA/NCI NIH HHS/United States',\n",
              "  'R01 CA129182/CA/NCI NIH HHS/United States'],\n",
              " 'PT': ['Journal Article',\n",
              "  'Research Support, N.I.H., Extramural',\n",
              "  'Systematic Review'],\n",
              " 'DEP': '20180106',\n",
              " 'PL': 'United States',\n",
              " 'TA': 'Int J Radiat Oncol Biol Phys',\n",
              " 'JT': 'International journal of radiation oncology, biology, physics',\n",
              " 'JID': '7603616',\n",
              " 'SB': 'IM',\n",
              " 'CIN': ['Int J Radiat Oncol Biol Phys. 2021 May 1;110(1):250-251. doi:',\n",
              "  '10.1016/j.ijrobp.2018.02.013. PMID: 31740223',\n",
              "  'Int J Radiat Oncol Biol Phys. 2021 May 1;110(1):249-250. doi:',\n",
              "  '10.1016/j.ijrobp.2018.02.012. PMID: 31759682',\n",
              "  'Int J Radiat Oncol Biol Phys. 2022 May 1;113(1):228. doi:',\n",
              "  '10.1016/j.ijrobp.2022.01.016. PMID: 35427547',\n",
              "  'Int J Radiat Oncol Biol Phys. 2022 May 1;113(1):229. doi:',\n",
              "  '10.1016/j.ijrobp.2022.01.015. PMID: 35427548'],\n",
              " 'MH': ['Actuarial Analysis',\n",
              "  'Colorectal Neoplasms/pathology',\n",
              "  'Dose-Response Relationship, Radiation',\n",
              "  'Humans',\n",
              "  'Kaplan-Meier Estimate',\n",
              "  'Linear Models',\n",
              "  'Liver Neoplasms/mortality/*radiotherapy/*secondary',\n",
              "  'Models, Biological',\n",
              "  'Models, Theoretical',\n",
              "  'Probability',\n",
              "  'Radiosurgery/*methods',\n",
              "  'Radiotherapy Dosage',\n",
              "  'Relative Biological Effectiveness',\n",
              "  'Treatment Outcome'],\n",
              " 'PMC': 'PMC6102100',\n",
              " 'MID': ['NIHMS984378'],\n",
              " 'COIS': ['Conflict of interest: none.'],\n",
              " 'EDAT': '2018/02/06 06:00',\n",
              " 'MHDA': '2021/08/05 06:00',\n",
              " 'PMCR': ['2022/05/01'],\n",
              " 'CRDT': ['2018/02/04 06:00'],\n",
              " 'PHST': ['2017/11/30 00:00 [received]',\n",
              "  '2017/12/29 00:00 [accepted]',\n",
              "  '2018/02/06 06:00 [pubmed]',\n",
              "  '2021/08/05 06:00 [medline]',\n",
              "  '2018/02/04 06:00 [entrez]',\n",
              "  '2022/05/01 00:00 [pmc-release]'],\n",
              " 'AID': ['S0360-3016(17)34525-X [pii]', '10.1016/j.ijrobp.2017.12.288 [doi]'],\n",
              " 'PST': 'ppublish',\n",
              " 'SO': 'Int J Radiat Oncol Biol Phys. 2021 May 1;110(1):188-195. doi: 10.1016/j.ijrobp.2017.12.288. Epub 2018 Jan 6.'}"
            ]
          },
          "metadata": {},
          "execution_count": 21
        }
      ]
    },
    {
      "cell_type": "code",
      "source": [
        "\n",
        "# Now you have a list of PubMed records!\n",
        "# You can access the data like this:\n",
        "records = []\n",
        "import pydantic\n",
        "from pydantic import BaseModel\n",
        "from typing import Optional\n",
        "\n",
        "class PubMedRecord(BaseModel):\n",
        "    title: str\n",
        "    abstract: Optional[str]\n",
        "    pmid: str\n",
        "    pmc: Optional[str]\n",
        "    journal_title: str\n",
        "    publication_date: str\n",
        "    authors: list[str]\n",
        "    submitted_authors: list[str]\n",
        "    affiliations: list[str]\n",
        "\n",
        "for record in pubmed_records:\n",
        "    # Create a PubMedRecord instance for each record\n",
        "    pubmed_record = PubMedRecord(\n",
        "        title=record.get('TI', None),\n",
        "        abstract=record.get('AB', None),\n",
        "        pmid=record.get('PMID', None),\n",
        "        pmc=record.get('PMC', None),\n",
        "        journal_title=record.get('JT', None),\n",
        "        publication_date=record.get('DP', None),\n",
        "        authors=record.get('AU', []),\n",
        "        submitted_authors=record.get('FAU', []),\n",
        "        affiliations=record.get('AD', [])\n",
        "    )\n",
        "    records.append(pubmed_record)"
      ],
      "metadata": {
        "id": "sHRWo9vYMUFA"
      },
      "execution_count": 24,
      "outputs": []
    },
    {
      "cell_type": "code",
      "source": [
        "pubmed_df = pl.DataFrame(records)"
      ],
      "metadata": {
        "id": "DsDiC1SaPG9_"
      },
      "execution_count": 25,
      "outputs": []
    },
    {
      "cell_type": "code",
      "source": [
        "pubmed_df"
      ],
      "metadata": {
        "colab": {
          "base_uri": "https://localhost:8080/",
          "height": 1000
        },
        "id": "NYi9OVIgPaWA",
        "outputId": "9fd8ee48-fa89-4082-8dd1-471aa281e4c4"
      },
      "execution_count": 26,
      "outputs": [
        {
          "output_type": "execute_result",
          "data": {
            "text/plain": [
              "shape: (2_152, 9)\n",
              "┌───────────┬───────────┬──────────┬───────────┬───┬───────────┬───────────┬───────────┬───────────┐\n",
              "│ title     ┆ abstract  ┆ pmid     ┆ pmc       ┆ … ┆ publicati ┆ authors   ┆ submitted ┆ affiliati │\n",
              "│ ---       ┆ ---       ┆ ---      ┆ ---       ┆   ┆ on_date   ┆ ---       ┆ _authors  ┆ ons       │\n",
              "│ str       ┆ str       ┆ str      ┆ str       ┆   ┆ ---       ┆ list[str] ┆ ---       ┆ ---       │\n",
              "│           ┆           ┆          ┆           ┆   ┆ str       ┆           ┆ list[str] ┆ list[str] │\n",
              "╞═══════════╪═══════════╪══════════╪═══════════╪═══╪═══════════╪═══════════╪═══════════╪═══════════╡\n",
              "│ Local     ┆ PURPOSE:  ┆ 29395629 ┆ PMC610210 ┆ … ┆ 2021 May  ┆ [\"Ohri    ┆ [\"Ohri,   ┆ [\"Departm │\n",
              "│ Control   ┆ To quanti ┆          ┆ 0         ┆   ┆ 1         ┆ N\", \"Tome ┆ Nitin\",   ┆ ent of    │\n",
              "│ After Ste ┆ tatively  ┆          ┆           ┆   ┆           ┆ WA\", …    ┆ \"Tome,    ┆ Radiation │\n",
              "│ reotact…  ┆ eva…      ┆          ┆           ┆   ┆           ┆ \"Jacks…   ┆ Wolfgan…  ┆ Onco…     │\n",
              "│ Electroni ┆ BACKGROUN ┆ 29741713 ┆ PMC675152 ┆ … ┆ 2019 Sep  ┆ [\"Urman   ┆ [\"Urman,  ┆ [\"Departm │\n",
              "│ c         ┆ D: A supp ┆          ┆ 2         ┆   ┆ 19        ┆ R\", \"McCo ┆ Robert\",  ┆ ent of    │\n",
              "│ Cigarette ┆ ortive    ┆          ┆           ┆   ┆           ┆ nnell R\", ┆ \"McConnel ┆ Preventiv │\n",
              "│ and       ┆ youth…    ┆          ┆           ┆   ┆           ┆ … \"…      ┆ l, …      ┆ e Med…    │\n",
              "│ Cigar…    ┆           ┆          ┆           ┆   ┆           ┆           ┆           ┆           │\n",
              "│ Comparing ┆ OBJECTIVE ┆ 29771723 ┆ null      ┆ … ┆ 2019 Dec  ┆ [\"Torphy  ┆ [\"Torphy, ┆ [\"Departm │\n",
              "│ Short-ter ┆ : To      ┆          ┆           ┆   ┆           ┆ RJ\",      ┆ Robert    ┆ ent of    │\n",
              "│ m and     ┆ compare   ┆          ┆           ┆   ┆           ┆ \"Friedman ┆ J\", \"Frie ┆ Surgery,  │\n",
              "│ Oncol…    ┆ short-te… ┆          ┆           ┆   ┆           ┆ C\", … …   ┆ dman…     ┆ Unive…    │\n",
              "│ Successfu ┆ Pediatric ┆ 30095692 ┆ PMC666124 ┆ … ┆ 2019 Aug  ┆ [\"Ross    ┆ [\"Ross,   ┆ [\"Departm │\n",
              "│ l Use of  ┆ Burkitt   ┆          ┆ 1         ┆   ┆           ┆ S\",       ┆ Savannah\" ┆ ent of    │\n",
              "│ EPOCH-R   ┆ lymphoma  ┆          ┆           ┆   ┆           ┆ \"Eisenman ┆ , \"Eisenm ┆ Pediatric │\n",
              "│ in 2…     ┆ has…      ┆          ┆           ┆   ┆           ┆ K\",       ┆ an, …     ┆ Hema…     │\n",
              "│           ┆           ┆          ┆           ┆   ┆           ┆ \"Malo…    ┆           ┆           │\n",
              "│ Predictor ┆ BACKGROUN ┆ 30296542 ┆ PMC666116 ┆ … ┆ 2019 Jul  ┆ [\"Altieri ┆ [\"Altieri ┆ [\"Departm │\n",
              "│ s of      ┆ D:        ┆          ┆ 5         ┆   ┆           ┆ L\",       ┆ , Lisa\",  ┆ ent of    │\n",
              "│ mucosal   ┆ Mucosal   ┆          ┆           ┆   ┆           ┆ \"Eguchi   ┆ \"Eguchi,  ┆ Dermatolo │\n",
              "│ melanoma… ┆ melanomas ┆          ┆           ┆   ┆           ┆ M\", … \"C… ┆ Meg…      ┆ gy, K…    │\n",
              "│           ┆ …         ┆          ┆           ┆   ┆           ┆           ┆           ┆           │\n",
              "│ …         ┆ …         ┆ …        ┆ …         ┆ … ┆ …         ┆ …         ┆ …         ┆ …         │\n",
              "│ Pulmonary ┆ BACKGROUN ┆ 37391327 ┆ null      ┆ … ┆ 2023 Sep  ┆ [\"Stuart  ┆ [\"Stuart, ┆ [\"Departm │\n",
              "│ metastase ┆ D: After  ┆          ┆           ┆   ┆           ┆ CM\",      ┆ Christina ┆ ent of    │\n",
              "│ ctomy is  ┆ surgical  ┆          ┆           ┆   ┆           ┆ \"Kirsch   ┆ M\",       ┆ Surgery,  │\n",
              "│ as…       ┆ res…      ┆          ┆           ┆   ┆           ┆ MJ\", … \"… ┆ \"Kirsc…   ┆ Divis…    │\n",
              "│ Chimeric  ┆ Outcomes  ┆ 37394115 ┆ PMC105299 ┆ … ┆ 2023 Sep  ┆ [\"Holland ┆ [\"Holland ┆ [\"Pediatr │\n",
              "│ Antigen   ┆ for post- ┆          ┆ 70        ┆   ┆           ┆ EM\",      ┆ ,         ┆ ic        │\n",
              "│ Receptor  ┆ chimeric  ┆          ┆           ┆   ┆           ┆ \"Yates    ┆ Elizabeth ┆ Oncology  │\n",
              "│ T Ce…     ┆ ant…      ┆          ┆           ┆   ┆           ┆ B\", … \"S… ┆ M\",       ┆ Branch,   │\n",
              "│           ┆           ┆          ┆           ┆   ┆           ┆           ┆ \"Yate…    ┆ C…        │\n",
              "│ Inducible ┆ The three ┆ 37406303 ┆ PMC996327 ┆ … ┆ 2023 Feb  ┆ [\"Yuita   ┆ [\"Yuita,  ┆ [\"Divisio │\n",
              "│ disruptio ┆ mammalian ┆          ┆ 6         ┆   ┆ 7         ┆ H\", \"Lope ┆ Hiroshi\", ┆ n of      │\n",
              "│ n of Tet  ┆ TET       ┆          ┆           ┆   ┆           ┆ z-Moyado  ┆ \"Lopez-Mo ┆ Signaling │\n",
              "│ ge…       ┆ dioxyg…   ┆          ┆           ┆   ┆           ┆ IF\",…     ┆ ya…       ┆ and Ge…   │\n",
              "│ Dasatinib ┆ Thyroid   ┆ 37408209 ┆ PMC102163 ┆ … ┆ 2023 May  ┆ [\"Bolf    ┆ [\"Bolf,   ┆ [\"Divisio │\n",
              "│ and Trame ┆ cancer is ┆          ┆ 21        ┆   ┆ 12        ┆ EL\",      ┆ Eric L\",  ┆ n of Endo │\n",
              "│ tinib     ┆ the most  ┆          ┆           ┆   ┆           ┆ \"Beadnell ┆ \"Beadnell ┆ crinology │\n",
              "│ Promo…    ┆ com…      ┆          ┆           ┆   ┆           ┆ TC\", … \"… ┆ , Th…     ┆ , M…      │\n",
              "│ Canine    ┆ OBJECTIVE ┆ 37441554 ┆ PMC103335 ┆ … ┆ 2023      ┆ [\"Gualtie ┆ [\"Gualtie ┆ [\"Departm │\n",
              "│ salivary  ┆ : The aim ┆          ┆ 81        ┆   ┆           ┆ ri P\",    ┆ ri, Patri ┆ ent of    │\n",
              "│ gland     ┆ of this   ┆          ┆           ┆   ┆           ┆ \"Martin   ┆ cia\",     ┆ Environme │\n",
              "│ carcinom… ┆ stu…      ┆          ┆           ┆   ┆           ┆ T\", … …   ┆ \"Marti…   ┆ ntal …    │\n",
              "└───────────┴───────────┴──────────┴───────────┴───┴───────────┴───────────┴───────────┴───────────┘"
            ],
            "text/html": [
              "<div><style>\n",
              ".dataframe > thead > tr,\n",
              ".dataframe > tbody > tr {\n",
              "  text-align: right;\n",
              "  white-space: pre-wrap;\n",
              "}\n",
              "</style>\n",
              "<small>shape: (2_152, 9)</small><table border=\"1\" class=\"dataframe\"><thead><tr><th>title</th><th>abstract</th><th>pmid</th><th>pmc</th><th>journal_title</th><th>publication_date</th><th>authors</th><th>submitted_authors</th><th>affiliations</th></tr><tr><td>str</td><td>str</td><td>str</td><td>str</td><td>str</td><td>str</td><td>list[str]</td><td>list[str]</td><td>list[str]</td></tr></thead><tbody><tr><td>&quot;Local Control After Stereotact…</td><td>&quot;PURPOSE: To quantitatively eva…</td><td>&quot;29395629&quot;</td><td>&quot;PMC6102100&quot;</td><td>&quot;International journal of radia…</td><td>&quot;2021 May 1&quot;</td><td>[&quot;Ohri N&quot;, &quot;Tome WA&quot;, … &quot;Jackson A&quot;]</td><td>[&quot;Ohri, Nitin&quot;, &quot;Tome, Wolfgang A&quot;, … &quot;Jackson, Andrew&quot;]</td><td>[&quot;Department of Radiation Oncology, Montefiore Medical Center and Albert Einstein College of Medicine, Bronx, New York.&quot;, &quot;Department of Radiation Oncology, Montefiore Medical Center and Albert Einstein College of Medicine, Bronx, New York. Electronic address: wtome@montefiore.org.&quot;, … &quot;Department of Radiation Oncology, Memorial Sloan-Kettering Cancer Center, New York, New York.&quot;]</td></tr><tr><td>&quot;Electronic Cigarette and Cigar…</td><td>&quot;BACKGROUND: A supportive youth…</td><td>&quot;29741713&quot;</td><td>&quot;PMC6751522&quot;</td><td>&quot;Nicotine &amp; tobacco research : …</td><td>&quot;2019 Sep 19&quot;</td><td>[&quot;Urman R&quot;, &quot;McConnell R&quot;, … &quot;Barrington-Trimis JL&quot;]</td><td>[&quot;Urman, Robert&quot;, &quot;McConnell, Rob&quot;, … &quot;Barrington-Trimis, Jessica L&quot;]</td><td>[&quot;Department of Preventive Medicine, Keck School of Medicine, University of Southern California, Los Angeles, CA.&quot;, &quot;Department of Preventive Medicine, Keck School of Medicine, University of Southern California, Los Angeles, CA.&quot;, … &quot;Department of Preventive Medicine, Keck School of Medicine, University of Southern California, Los Angeles, CA.&quot;]</td></tr><tr><td>&quot;Comparing Short-term and Oncol…</td><td>&quot;OBJECTIVE: To compare short-te…</td><td>&quot;29771723&quot;</td><td>null</td><td>&quot;Annals of surgery&quot;</td><td>&quot;2019 Dec&quot;</td><td>[&quot;Torphy RJ&quot;, &quot;Friedman C&quot;, … &quot;Gleisner A&quot;]</td><td>[&quot;Torphy, Robert J&quot;, &quot;Friedman, Chloe&quot;, … &quot;Gleisner, Ana&quot;]</td><td>[&quot;Department of Surgery, University of Colorado, Aurora, CO.&quot;, &quot;Department of Surgery, University of Colorado, Aurora, CO.&quot;, … &quot;Department of Surgery, University of Colorado, Aurora, CO.&quot;]</td></tr><tr><td>&quot;Successful Use of EPOCH-R in 2…</td><td>&quot;Pediatric Burkitt lymphoma has…</td><td>&quot;30095692&quot;</td><td>&quot;PMC6661241&quot;</td><td>&quot;Journal of pediatric hematolog…</td><td>&quot;2019 Aug&quot;</td><td>[&quot;Ross S&quot;, &quot;Eisenman K&quot;, &quot;Maloney KW&quot;]</td><td>[&quot;Ross, Savannah&quot;, &quot;Eisenman, Kristen&quot;, &quot;Maloney, Kelly W&quot;]</td><td>[&quot;Department of Pediatric Hematology/Oncology/BMT, University of Colorado School of Medicine and Children&#x27;s Hospital Colorado, Aurora, CO.&quot;]</td></tr><tr><td>&quot;Predictors of mucosal melanoma…</td><td>&quot;BACKGROUND: Mucosal melanomas …</td><td>&quot;30296542&quot;</td><td>&quot;PMC6661165&quot;</td><td>&quot;Journal of the American Academ…</td><td>&quot;2019 Jul&quot;</td><td>[&quot;Altieri L&quot;, &quot;Eguchi M&quot;, … &quot;Cockburn M&quot;]</td><td>[&quot;Altieri, Lisa&quot;, &quot;Eguchi, Megan&quot;, … &quot;Cockburn, Myles&quot;]</td><td>[&quot;Department of Dermatology, Keck School of Medicine of the University of Southern California, Los Angeles, California. Electronic address: lisa.altieri@med.usc.edu.&quot;, &quot;University of Colorado Cancer Center, Denver, Colorado.&quot;, … &quot;Department of Dermatology, Keck School of Medicine of the University of Southern California, Los Angeles, California; University of Colorado Cancer Center, Denver, Colorado; Department of Preventive Medicine, Keck School of Medicine of the University of Southern California, Los Angeles, California.&quot;]</td></tr><tr><td>&hellip;</td><td>&hellip;</td><td>&hellip;</td><td>&hellip;</td><td>&hellip;</td><td>&hellip;</td><td>&hellip;</td><td>&hellip;</td><td>&hellip;</td></tr><tr><td>&quot;Pulmonary metastasectomy is as…</td><td>&quot;BACKGROUND: After surgical res…</td><td>&quot;37391327&quot;</td><td>null</td><td>&quot;Surgery&quot;</td><td>&quot;2023 Sep&quot;</td><td>[&quot;Stuart CM&quot;, &quot;Kirsch MJ&quot;, … &quot;Meguid RA&quot;]</td><td>[&quot;Stuart, Christina M&quot;, &quot;Kirsch, Michael J&quot;, … &quot;Meguid, Robert A&quot;]</td><td>[&quot;Department of Surgery, Division of Cardiothoracic Surgery, University of Colorado School of Medicine, Aurora, CO; Surgical Outcomes and Applied Research Program, Department of Surgery, University of Colorado School of Medicine, Aurora, CO. Electronic address: Christina.Stuart@cuanschutz.edu.&quot;, &quot;Department of Surgery, Division of Surgical Oncology, University of Colorado School of Medicine, Aurora, CO.&quot;, … &quot;Department of Surgery, Division of Cardiothoracic Surgery, University of Colorado School of Medicine, Aurora, CO; Surgical Outcomes and Applied Research Program, Department of Surgery, University of Colorado School of Medicine, Aurora, CO.&quot;]</td></tr><tr><td>&quot;Chimeric Antigen Receptor T Ce…</td><td>&quot;Outcomes for post-chimeric ant…</td><td>&quot;37394115&quot;</td><td>&quot;PMC10529970&quot;</td><td>&quot;Transplantation and cellular t…</td><td>&quot;2023 Sep&quot;</td><td>[&quot;Holland EM&quot;, &quot;Yates B&quot;, … &quot;Shah NN&quot;]</td><td>[&quot;Holland, Elizabeth M&quot;, &quot;Yates, Bonnie&quot;, … &quot;Shah, Nirali N&quot;]</td><td>[&quot;Pediatric Oncology Branch, Center for Cancer Research, National Cancer Institute, National Institutes of Health, Bethesda, Maryland.&quot;, &quot;Pediatric Oncology Branch, Center for Cancer Research, National Cancer Institute, National Institutes of Health, Bethesda, Maryland.&quot;, … &quot;Pediatric Oncology Branch, Center for Cancer Research, National Cancer Institute, National Institutes of Health, Bethesda, Maryland. Electronic address: nirali.shah@nih.gov.&quot;]</td></tr><tr><td>&quot;Inducible disruption of Tet ge…</td><td>&quot;The three mammalian TET dioxyg…</td><td>&quot;37406303&quot;</td><td>&quot;PMC9963276&quot;</td><td>&quot;Proceedings of the National Ac…</td><td>&quot;2023 Feb 7&quot;</td><td>[&quot;Yuita H&quot;, &quot;Lopez-Moyado IF&quot;, … &quot;Rao A&quot;]</td><td>[&quot;Yuita, Hiroshi&quot;, &quot;Lopez-Moyado, Isaac F&quot;, … &quot;Rao, Anjana&quot;]</td><td>[&quot;Division of Signaling and Gene Expression, La Jolla Institute for Immunology, La Jolla, CA 92037.&quot;, &quot;Division of Signaling and Gene Expression, La Jolla Institute for Immunology, La Jolla, CA 92037.&quot;, … &quot;Sanford Consortium for Regenerative Medicine, La Jolla, CA 92093.&quot;]</td></tr><tr><td>&quot;Dasatinib and Trametinib Promo…</td><td>&quot;Thyroid cancer is the most com…</td><td>&quot;37408209&quot;</td><td>&quot;PMC10216321&quot;</td><td>&quot;Cells&quot;</td><td>&quot;2023 May 12&quot;</td><td>[&quot;Bolf EL&quot;, &quot;Beadnell TC&quot;, … &quot;Schweppe RE&quot;]</td><td>[&quot;Bolf, Eric L&quot;, &quot;Beadnell, Thomas C&quot;, … &quot;Schweppe, Rebecca E&quot;]</td><td>[&quot;Division of Endocrinology, Metabolism, and Diabetes, School of Medicine, University of Colorado Anschutz Medical Campus, Mail Stop 8106, Aurora, CO 80045, USA.&quot;, &quot;Division of Endocrinology, Metabolism, and Diabetes, School of Medicine, University of Colorado Anschutz Medical Campus, Mail Stop 8106, Aurora, CO 80045, USA.&quot;, … &quot;Division of Endocrinology, Metabolism, and Diabetes, School of Medicine, University of Colorado Anschutz Medical Campus, Mail Stop 8106, Aurora, CO 80045, USA.&quot;]</td></tr><tr><td>&quot;Canine salivary gland carcinom…</td><td>&quot;OBJECTIVE: The aim of this stu…</td><td>&quot;37441554&quot;</td><td>&quot;PMC10333581&quot;</td><td>&quot;Frontiers in veterinary scienc…</td><td>&quot;2023&quot;</td><td>[&quot;Gualtieri P&quot;, &quot;Martin T&quot;, … &quot;Boss MK&quot;]</td><td>[&quot;Gualtieri, Patricia&quot;, &quot;Martin, Tiffany&quot;, … &quot;Boss, Mary-Keara&quot;]</td><td>[&quot;Department of Environmental and Radiological Health Sciences, College of Veterinary Medicine and Biomedical Sciences, Colorado State University, Fort Collins, CO, United States.&quot;, &quot;Department of Environmental and Radiological Health Sciences, College of Veterinary Medicine and Biomedical Sciences, Colorado State University, Fort Collins, CO, United States.&quot;, … &quot;Department of Environmental and Radiological Health Sciences, College of Veterinary Medicine and Biomedical Sciences, Colorado State University, Fort Collins, CO, United States.&quot;]</td></tr></tbody></table></div>"
            ]
          },
          "metadata": {},
          "execution_count": 26
        }
      ]
    },
    {
      "cell_type": "code",
      "source": [
        "pubmed_df.shape"
      ],
      "metadata": {
        "colab": {
          "base_uri": "https://localhost:8080/"
        },
        "id": "t0v1mqWIPcxo",
        "outputId": "b581f7c7-bc91-435c-acc2-552c8f5c657b"
      },
      "execution_count": 28,
      "outputs": [
        {
          "output_type": "execute_result",
          "data": {
            "text/plain": [
              "(2152, 9)"
            ]
          },
          "metadata": {},
          "execution_count": 28
        }
      ]
    },
    {
      "cell_type": "code",
      "source": [
        "import spacy\n",
        "import polars as pl\n",
        "\n",
        "# Load the spaCy English language model\n",
        "nlp = spacy.load(\"en_core_web_sm\")\n",
        "\n",
        "# Define a function to clean the text (same as before)\n",
        "def clean_text(text):\n",
        "    doc = nlp(text.lower())\n",
        "    tokens = [token.lemma_ for token in doc if not token.is_stop and token.is_alpha]\n",
        "    return \" \".join(tokens)\n",
        "\n",
        "# Apply the cleaning function using `map` within `select`\n",
        "cleaned_pubmed_df = pubmed_df.select([\n",
        "    pl.col(\"pmid\"),\n",
        "    pl.col(\"title\").map_elements(clean_text, return_dtype=str).alias(\"cleaned_title\"),\n",
        "    pl.col(\"abstract\").map_elements(clean_text, return_dtype=str).alias(\"cleaned_abstract\"),\n",
        "])"
      ],
      "metadata": {
        "id": "G2GJ0hvbPrnZ"
      },
      "execution_count": 38,
      "outputs": []
    },
    {
      "cell_type": "code",
      "source": [
        "cleaned_pubmed_df['cleaned_title']"
      ],
      "metadata": {
        "colab": {
          "base_uri": "https://localhost:8080/",
          "height": 443
        },
        "id": "oTL2t2WWQQVL",
        "outputId": "2c43e27e-c32c-41c2-e8ec-aa952cb47f30"
      },
      "execution_count": 41,
      "outputs": [
        {
          "output_type": "execute_result",
          "data": {
            "text/plain": [
              "shape: (2_152,)\n",
              "Series: 'cleaned_title' [str]\n",
              "[\n",
              "\t\"local control stereotactic bod…\n",
              "\t\"electronic cigarette cigarette…\n",
              "\t\"compare short term oncologic o…\n",
              "\t\"successful use epoch r young a…\n",
              "\t\"predictor mucosal melanoma sur…\n",
              "\t…\n",
              "\t\"pulmonary metastasectomy assoc…\n",
              "\t\"chimeric antigen receptor t ce…\n",
              "\t\"inducible disruption tet gene …\n",
              "\t\"dasatinib trametinib promote a…\n",
              "\t\"canine salivary gland carcinom…\n",
              "]"
            ],
            "text/html": [
              "<div><style>\n",
              ".dataframe > thead > tr,\n",
              ".dataframe > tbody > tr {\n",
              "  text-align: right;\n",
              "  white-space: pre-wrap;\n",
              "}\n",
              "</style>\n",
              "<small>shape: (2_152,)</small><table border=\"1\" class=\"dataframe\"><thead><tr><th>cleaned_title</th></tr><tr><td>str</td></tr></thead><tbody><tr><td>&quot;local control stereotactic bod…</td></tr><tr><td>&quot;electronic cigarette cigarette…</td></tr><tr><td>&quot;compare short term oncologic o…</td></tr><tr><td>&quot;successful use epoch r young a…</td></tr><tr><td>&quot;predictor mucosal melanoma sur…</td></tr><tr><td>&hellip;</td></tr><tr><td>&quot;pulmonary metastasectomy assoc…</td></tr><tr><td>&quot;chimeric antigen receptor t ce…</td></tr><tr><td>&quot;inducible disruption tet gene …</td></tr><tr><td>&quot;dasatinib trametinib promote a…</td></tr><tr><td>&quot;canine salivary gland carcinom…</td></tr></tbody></table></div>"
            ]
          },
          "metadata": {},
          "execution_count": 41
        }
      ]
    },
    {
      "cell_type": "code",
      "source": [
        "from sklearn.decomposition import TruncatedSVD\n",
        "from sklearn.feature_extraction.text import TfidfVectorizer\n",
        "\n",
        "# Assuming 'df' is your Polars DataFrame with 'cleaned_abstract' column\n",
        "abstracts = cleaned_pubmed_df.filter(\n",
        "    pl.col(\"cleaned_abstract\").is_not_null()\n",
        ")['cleaned_abstract'].to_list()\n",
        "\n",
        "print(\"Sample abstract:\", abstracts[0])\n",
        "\n",
        "# Create a TF-IDF vectorizer\n",
        "vectorizer = TfidfVectorizer(max_features=100)  # Adjust max_features as needed\n",
        "tfidfs = vectorizer.fit(abstracts)\n",
        "tfidf_matrix = vectorizer.fit_transform(abstracts)\n",
        "\n",
        "# Apply LSA (TruncatedSVD is scikit-learn's implementation of LSA)\n",
        "lsa = TruncatedSVD(n_components=30)  # Adjust n_components (number of topics)\n",
        "lsa_matrix = lsa.fit_transform(tfidf_matrix)\n",
        "\n",
        "# Explore the results\n",
        "print(lsa.components_)  # Topic-word matrix\n",
        "#print(lsa_matrix)  # Document-topic matrix"
      ],
      "metadata": {
        "colab": {
          "base_uri": "https://localhost:8080/"
        },
        "id": "Rm7vYGxnRs8y",
        "outputId": "3bd4c612-e95f-465f-e4e6-bcf20ae3b720"
      },
      "execution_count": 96,
      "outputs": [
        {
          "output_type": "stream",
          "name": "stdout",
          "text": [
            "Sample abstract: purpose quantitatively evaluate publish experience hepatic stereotactic body radiation therapy sbrt determine local control rate treatment primary metastatic liver tumor examine outcome affect sbrt dose regiman method material identify publish article report local control rate sbrt primary metastatic liver tumor biologically effective dose bed calculate dose regiman linear quadratic equation exclude series wide range bed individual lesion datum local control extract actuarial survival curve datum aggregate form single dataset actuarial local control curve generate kaplan meier method group lesion disease type bed vs comparison log rank testing result thirteen article meet inclusion criterion form dataset analysis year actuarial local control rate sbrt primary liver tumor n respectively low year actuarial local control rate observe liver metastasis n log rank p patient treat sbrt primary liver tumor evidence local control influence bed range schedule liver metastasis hand outcome significantly well lesion treat bed exceed year local control treat bed year local control p conclusion stereotactic body radiation therapy primary liver tumor provide high rate durable local control clear evidence dose response relationship commonly utilize schedule excellent local control rate see sbrt liver metastasis bed utilize\n",
            "[[ 0.07755433  0.06727495  0.09877946 ...  0.06709625  0.04272151\n",
            "   0.10206857]\n",
            " [ 0.06750962 -0.06298501 -0.0206919  ... -0.02994249 -0.0367858\n",
            "  -0.12261739]\n",
            " [-0.00855074  0.08242611  0.06224854 ...  0.11839715  0.15306333\n",
            "   0.07036636]\n",
            " ...\n",
            " [-0.05137538 -0.10025517 -0.14395176 ...  0.51476875  0.03805889\n",
            "  -0.12502608]\n",
            " [ 0.25064623  0.03552277 -0.14281696 ... -0.00249228  0.09831546\n",
            "   0.13897284]\n",
            " [-0.11225036  0.13345329  0.04867624 ...  0.29798909 -0.01914625\n",
            "   0.13593281]]\n"
          ]
        }
      ]
    },
    {
      "cell_type": "code",
      "source": [
        "lsa_matrix.shape"
      ],
      "metadata": {
        "colab": {
          "base_uri": "https://localhost:8080/"
        },
        "id": "72oru9hlTdNM",
        "outputId": "c7543496-299e-493c-9fff-ad6629aaad79"
      },
      "execution_count": 97,
      "outputs": [
        {
          "output_type": "execute_result",
          "data": {
            "text/plain": [
              "(2091, 30)"
            ]
          },
          "metadata": {},
          "execution_count": 97
        }
      ]
    },
    {
      "cell_type": "code",
      "source": [
        "lsa.components_.shape"
      ],
      "metadata": {
        "colab": {
          "base_uri": "https://localhost:8080/"
        },
        "id": "oU-CQKLnUY0m",
        "outputId": "4d5f6554-e9cc-4761-d858-21ac105c9d46"
      },
      "execution_count": 98,
      "outputs": [
        {
          "output_type": "execute_result",
          "data": {
            "text/plain": [
              "(30, 100)"
            ]
          },
          "metadata": {},
          "execution_count": 98
        }
      ]
    },
    {
      "cell_type": "code",
      "source": [],
      "metadata": {
        "id": "S62KJPv8U4cC"
      },
      "execution_count": 98,
      "outputs": []
    },
    {
      "cell_type": "code",
      "source": [
        "feature_names = tfidfs.get_feature_names_out()"
      ],
      "metadata": {
        "id": "MGbwaA3bVAKq"
      },
      "execution_count": 99,
      "outputs": []
    },
    {
      "cell_type": "code",
      "source": [
        "import numpy as np\n",
        "\n",
        "# Assuming 'lsa' is your trained LSA model and 'feature_names' is from tfidf.get_feature_names_out()\n",
        "\n",
        "topic_words = []\n",
        "for i, topic in enumerate(lsa.components_):\n",
        "    word_value_pairs = list(zip(feature_names, topic))\n",
        "    sorted_pairs = sorted(word_value_pairs, key=lambda pair: pair[1], reverse=True)\n",
        "    topic_words.append([word for word, value in sorted_pairs])"
      ],
      "metadata": {
        "id": "hXN6Zm0WVKiL"
      },
      "execution_count": 100,
      "outputs": []
    },
    {
      "cell_type": "code",
      "source": [
        "res = []\n",
        "for i in range(30):\n",
        "    res.append(topic_words[i][0:20])\n",
        "g = pl.DataFrame(res)"
      ],
      "metadata": {
        "id": "jSwBcUm-W2m_"
      },
      "execution_count": 101,
      "outputs": []
    },
    {
      "cell_type": "code",
      "source": [
        "g"
      ],
      "metadata": {
        "colab": {
          "base_uri": "https://localhost:8080/",
          "height": 463
        },
        "id": "NHaZdRIFW5SJ",
        "outputId": "c20016e6-a335-4f05-d106-e9c7c462cdf2"
      },
      "execution_count": 102,
      "outputs": [
        {
          "output_type": "execute_result",
          "data": {
            "text/plain": [
              "shape: (20, 30)\n",
              "┌───────────┬───────────┬───────────┬───────────┬───┬───────────┬───────────┬───────────┬──────────┐\n",
              "│ column_0  ┆ column_1  ┆ column_2  ┆ column_3  ┆ … ┆ column_26 ┆ column_27 ┆ column_28 ┆ column_2 │\n",
              "│ ---       ┆ ---       ┆ ---       ┆ ---       ┆   ┆ ---       ┆ ---       ┆ ---       ┆ 9        │\n",
              "│ str       ┆ str       ┆ str       ┆ str       ┆   ┆ str       ┆ str       ┆ str       ┆ ---      │\n",
              "│           ┆           ┆           ┆           ┆   ┆           ┆           ┆           ┆ str      │\n",
              "╞═══════════╪═══════════╪═══════════╪═══════════╪═══╪═══════════╪═══════════╪═══════════╪══════════╡\n",
              "│ patient   ┆ cell      ┆ cancer    ┆ tumor     ┆ … ┆ lung      ┆ use       ┆ day       ┆ pathway  │\n",
              "│ cell      ┆ tumor     ┆ breast    ┆ breast    ┆ … ┆ group     ┆ disease   ┆ activity  ┆ use      │\n",
              "│ cancer    ┆ expressio ┆ intervent ┆ cancer    ┆ … ┆ high      ┆ intervent ┆ lung      ┆ group    │\n",
              "│           ┆ n         ┆ ion       ┆           ┆   ┆           ┆ ion       ┆           ┆          │\n",
              "│ tumor     ┆ gene      ┆ health    ┆ immune    ┆ … ┆ radiation ┆ survival  ┆ target    ┆ os       │\n",
              "│ treatment ┆ mouse     ┆ care      ┆ radiation ┆ … ┆ rate      ┆ lung      ┆ ci        ┆ care     │\n",
              "│ …         ┆ …         ┆ …         ┆ …         ┆ … ┆ …         ┆ …         ┆ …         ┆ …        │\n",
              "│ identify  ┆ line      ┆ study     ┆ target    ┆ … ┆ primary   ┆ associate ┆ outcome   ┆ follow   │\n",
              "│ disease   ┆ increase  ┆ age       ┆ clinical  ┆ … ┆ respectiv ┆ identify  ┆ base      ┆ response │\n",
              "│           ┆           ┆           ┆           ┆   ┆ ely       ┆           ┆           ┆          │\n",
              "│ ci        ┆ find      ┆ increase  ┆ treat     ┆ … ┆ provide   ┆ therapy   ┆ chemother ┆ compare  │\n",
              "│           ┆           ┆           ┆           ┆   ┆           ┆           ┆ apy       ┆          │\n",
              "│ target    ┆ specific  ┆ model     ┆ significa ┆ … ┆ pathway   ┆ follow    ┆ breast    ┆ receive  │\n",
              "│           ┆           ┆           ┆ ntly      ┆   ┆           ┆           ┆           ┆          │\n",
              "│ year      ┆ reduce    ┆ provide   ┆ dose      ┆ … ┆ control   ┆ target    ┆ patient   ┆ respecti │\n",
              "│           ┆           ┆           ┆           ┆   ┆           ┆           ┆           ┆ vely     │\n",
              "└───────────┴───────────┴───────────┴───────────┴───┴───────────┴───────────┴───────────┴──────────┘"
            ],
            "text/html": [
              "<div><style>\n",
              ".dataframe > thead > tr,\n",
              ".dataframe > tbody > tr {\n",
              "  text-align: right;\n",
              "  white-space: pre-wrap;\n",
              "}\n",
              "</style>\n",
              "<small>shape: (20, 30)</small><table border=\"1\" class=\"dataframe\"><thead><tr><th>column_0</th><th>column_1</th><th>column_2</th><th>column_3</th><th>column_4</th><th>column_5</th><th>column_6</th><th>column_7</th><th>column_8</th><th>column_9</th><th>column_10</th><th>column_11</th><th>column_12</th><th>column_13</th><th>column_14</th><th>column_15</th><th>column_16</th><th>column_17</th><th>column_18</th><th>column_19</th><th>column_20</th><th>column_21</th><th>column_22</th><th>column_23</th><th>column_24</th><th>column_25</th><th>column_26</th><th>column_27</th><th>column_28</th><th>column_29</th></tr><tr><td>str</td><td>str</td><td>str</td><td>str</td><td>str</td><td>str</td><td>str</td><td>str</td><td>str</td><td>str</td><td>str</td><td>str</td><td>str</td><td>str</td><td>str</td><td>str</td><td>str</td><td>str</td><td>str</td><td>str</td><td>str</td><td>str</td><td>str</td><td>str</td><td>str</td><td>str</td><td>str</td><td>str</td><td>str</td><td>str</td></tr></thead><tbody><tr><td>&quot;patient&quot;</td><td>&quot;cell&quot;</td><td>&quot;cancer&quot;</td><td>&quot;tumor&quot;</td><td>&quot;dna&quot;</td><td>&quot;breast&quot;</td><td>&quot;dose&quot;</td><td>&quot;patient&quot;</td><td>&quot;dna&quot;</td><td>&quot;dose&quot;</td><td>&quot;care&quot;</td><td>&quot;lung&quot;</td><td>&quot;mouse&quot;</td><td>&quot;protein&quot;</td><td>&quot;response&quot;</td><td>&quot;mutation&quot;</td><td>&quot;risk&quot;</td><td>&quot;day&quot;</td><td>&quot;intervention&quot;</td><td>&quot;ci&quot;</td><td>&quot;day&quot;</td><td>&quot;year&quot;</td><td>&quot;ci&quot;</td><td>&quot;month&quot;</td><td>&quot;high&quot;</td><td>&quot;lung&quot;</td><td>&quot;lung&quot;</td><td>&quot;use&quot;</td><td>&quot;day&quot;</td><td>&quot;pathway&quot;</td></tr><tr><td>&quot;cell&quot;</td><td>&quot;tumor&quot;</td><td>&quot;breast&quot;</td><td>&quot;breast&quot;</td><td>&quot;gene&quot;</td><td>&quot;cancer&quot;</td><td>&quot;care&quot;</td><td>&quot;mutation&quot;</td><td>&quot;cell&quot;</td><td>&quot;risk&quot;</td><td>&quot;breast&quot;</td><td>&quot;cancer&quot;</td><td>&quot;treatment&quot;</td><td>&quot;mouse&quot;</td><td>&quot;risk&quot;</td><td>&quot;mouse&quot;</td><td>&quot;ci&quot;</td><td>&quot;cancer&quot;</td><td>&quot;group&quot;</td><td>&quot;use&quot;</td><td>&quot;care&quot;</td><td>&quot;health&quot;</td><td>&quot;gene&quot;</td><td>&quot;report&quot;</td><td>&quot;low&quot;</td><td>&quot;clinical&quot;</td><td>&quot;group&quot;</td><td>&quot;disease&quot;</td><td>&quot;activity&quot;</td><td>&quot;use&quot;</td></tr><tr><td>&quot;cancer&quot;</td><td>&quot;expression&quot;</td><td>&quot;intervention&quot;</td><td>&quot;cancer&quot;</td><td>&quot;protein&quot;</td><td>&quot;dna&quot;</td><td>&quot;mg&quot;</td><td>&quot;care&quot;</td><td>&quot;tumor&quot;</td><td>&quot;breast&quot;</td><td>&quot;response&quot;</td><td>&quot;risk&quot;</td><td>&quot;radiation&quot;</td><td>&quot;human&quot;</td><td>&quot;immune&quot;</td><td>&quot;group&quot;</td><td>&quot;protein&quot;</td><td>&quot;use&quot;</td><td>&quot;activity&quot;</td><td>&quot;model&quot;</td><td>&quot;model&quot;</td><td>&quot;activity&quot;</td><td>&quot;disease&quot;</td><td>&quot;median&quot;</td><td>&quot;treatment&quot;</td><td>&quot;risk&quot;</td><td>&quot;high&quot;</td><td>&quot;intervention&quot;</td><td>&quot;lung&quot;</td><td>&quot;group&quot;</td></tr><tr><td>&quot;tumor&quot;</td><td>&quot;gene&quot;</td><td>&quot;health&quot;</td><td>&quot;immune&quot;</td><td>&quot;response&quot;</td><td>&quot;mutation&quot;</td><td>&quot;cancer&quot;</td><td>&quot;gene&quot;</td><td>&quot;radiation&quot;</td><td>&quot;mg&quot;</td><td>&quot;intervention&quot;</td><td>&quot;dna&quot;</td><td>&quot;dna&quot;</td><td>&quot;patient&quot;</td><td>&quot;use&quot;</td><td>&quot;increase&quot;</td><td>&quot;care&quot;</td><td>&quot;time&quot;</td><td>&quot;trial&quot;</td><td>&quot;breast&quot;</td><td>&quot;disease&quot;</td><td>&quot;age&quot;</td><td>&quot;human&quot;</td><td>&quot;activity&quot;</td><td>&quot;mouse&quot;</td><td>&quot;trial&quot;</td><td>&quot;radiation&quot;</td><td>&quot;survival&quot;</td><td>&quot;target&quot;</td><td>&quot;os&quot;</td></tr><tr><td>&quot;treatment&quot;</td><td>&quot;mouse&quot;</td><td>&quot;care&quot;</td><td>&quot;radiation&quot;</td><td>&quot;tumor&quot;</td><td>&quot;woman&quot;</td><td>&quot;health&quot;</td><td>&quot;identify&quot;</td><td>&quot;use&quot;</td><td>&quot;high&quot;</td><td>&quot;expression&quot;</td><td>&quot;mutation&quot;</td><td>&quot;expression&quot;</td><td>&quot;care&quot;</td><td>&quot;disease&quot;</td><td>&quot;breast&quot;</td><td>&quot;day&quot;</td><td>&quot;group&quot;</td><td>&quot;patient&quot;</td><td>&quot;inhibitor&quot;</td><td>&quot;risk&quot;</td><td>&quot;report&quot;</td><td>&quot;pathway&quot;</td><td>&quot;risk&quot;</td><td>&quot;human&quot;</td><td>&quot;protein&quot;</td><td>&quot;rate&quot;</td><td>&quot;lung&quot;</td><td>&quot;ci&quot;</td><td>&quot;care&quot;</td></tr><tr><td>&hellip;</td><td>&hellip;</td><td>&hellip;</td><td>&hellip;</td><td>&hellip;</td><td>&hellip;</td><td>&hellip;</td><td>&hellip;</td><td>&hellip;</td><td>&hellip;</td><td>&hellip;</td><td>&hellip;</td><td>&hellip;</td><td>&hellip;</td><td>&hellip;</td><td>&hellip;</td><td>&hellip;</td><td>&hellip;</td><td>&hellip;</td><td>&hellip;</td><td>&hellip;</td><td>&hellip;</td><td>&hellip;</td><td>&hellip;</td><td>&hellip;</td><td>&hellip;</td><td>&hellip;</td><td>&hellip;</td><td>&hellip;</td><td>&hellip;</td></tr><tr><td>&quot;identify&quot;</td><td>&quot;line&quot;</td><td>&quot;study&quot;</td><td>&quot;target&quot;</td><td>&quot;find&quot;</td><td>&quot;phase&quot;</td><td>&quot;use&quot;</td><td>&quot;use&quot;</td><td>&quot;activity&quot;</td><td>&quot;radiation&quot;</td><td>&quot;level&quot;</td><td>&quot;immune&quot;</td><td>&quot;survival&quot;</td><td>&quot;primary&quot;</td><td>&quot;assess&quot;</td><td>&quot;inhibitor&quot;</td><td>&quot;target&quot;</td><td>&quot;method&quot;</td><td>&quot;significant&quot;</td><td>&quot;patient&quot;</td><td>&quot;identify&quot;</td><td>&quot;relate&quot;</td><td>&quot;event&quot;</td><td>&quot;identify&quot;</td><td>&quot;age&quot;</td><td>&quot;event&quot;</td><td>&quot;primary&quot;</td><td>&quot;associate&quot;</td><td>&quot;outcome&quot;</td><td>&quot;follow&quot;</td></tr><tr><td>&quot;disease&quot;</td><td>&quot;increase&quot;</td><td>&quot;age&quot;</td><td>&quot;clinical&quot;</td><td>&quot;datum&quot;</td><td>&quot;dose&quot;</td><td>&quot;report&quot;</td><td>&quot;compare&quot;</td><td>&quot;show&quot;</td><td>&quot;mutation&quot;</td><td>&quot;year&quot;</td><td>&quot;expression&quot;</td><td>&quot;combination&quot;</td><td>&quot;suggest&quot;</td><td>&quot;patient&quot;</td><td>&quot;line&quot;</td><td>&quot;effect&quot;</td><td>&quot;control&quot;</td><td>&quot;study&quot;</td><td>&quot;activity&quot;</td><td>&quot;clinical&quot;</td><td>&quot;human&quot;</td><td>&quot;control&quot;</td><td>&quot;intervention&quot;</td><td>&quot;include&quot;</td><td>&quot;report&quot;</td><td>&quot;respectively&quot;</td><td>&quot;identify&quot;</td><td>&quot;base&quot;</td><td>&quot;response&quot;</td></tr><tr><td>&quot;ci&quot;</td><td>&quot;find&quot;</td><td>&quot;increase&quot;</td><td>&quot;treat&quot;</td><td>&quot;identify&quot;</td><td>&quot;patient&quot;</td><td>&quot;change&quot;</td><td>&quot;target&quot;</td><td>&quot;method&quot;</td><td>&quot;study&quot;</td><td>&quot;ci&quot;</td><td>&quot;health&quot;</td><td>&quot;breast&quot;</td><td>&quot;month&quot;</td><td>&quot;target&quot;</td><td>&quot;significantly&quot;</td><td>&quot;radiation&quot;</td><td>&quot;report&quot;</td><td>&quot;outcome&quot;</td><td>&quot;phase&quot;</td><td>&quot;immune&quot;</td><td>&quot;combination&quot;</td><td>&quot;age&quot;</td><td>&quot;event&quot;</td><td>&quot;grade&quot;</td><td>&quot;tumor&quot;</td><td>&quot;provide&quot;</td><td>&quot;therapy&quot;</td><td>&quot;chemotherapy&quot;</td><td>&quot;compare&quot;</td></tr><tr><td>&quot;target&quot;</td><td>&quot;specific&quot;</td><td>&quot;model&quot;</td><td>&quot;significantly&quot;</td><td>&quot;pathway&quot;</td><td>&quot;lung&quot;</td><td>&quot;base&quot;</td><td>&quot;datum&quot;</td><td>&quot;survival&quot;</td><td>&quot;find&quot;</td><td>&quot;rate&quot;</td><td>&quot;rate&quot;</td><td>&quot;compare&quot;</td><td>&quot;age&quot;</td><td>&quot;ci&quot;</td><td>&quot;median&quot;</td><td>&quot;gene&quot;</td><td>&quot;analysis&quot;</td><td>&quot;clinical&quot;</td><td>&quot;method&quot;</td><td>&quot;mg&quot;</td><td>&quot;mouse&quot;</td><td>&quot;population&quot;</td><td>&quot;relate&quot;</td><td>&quot;respectively&quot;</td><td>&quot;non&quot;</td><td>&quot;pathway&quot;</td><td>&quot;follow&quot;</td><td>&quot;breast&quot;</td><td>&quot;receive&quot;</td></tr><tr><td>&quot;year&quot;</td><td>&quot;reduce&quot;</td><td>&quot;provide&quot;</td><td>&quot;dose&quot;</td><td>&quot;model&quot;</td><td>&quot;combination&quot;</td><td>&quot;study&quot;</td><td>&quot;specific&quot;</td><td>&quot;provide&quot;</td><td>&quot;use&quot;</td><td>&quot;patient&quot;</td><td>&quot;os&quot;</td><td>&quot;care&quot;</td><td>&quot;os&quot;</td><td>&quot;objective&quot;</td><td>&quot;response&quot;</td><td>&quot;low&quot;</td><td>&quot;ci&quot;</td><td>&quot;survival&quot;</td><td>&quot;human&quot;</td><td>&quot;mutation&quot;</td><td>&quot;event&quot;</td><td>&quot;provide&quot;</td><td>&quot;high&quot;</td><td>&quot;intervention&quot;</td><td>&quot;combination&quot;</td><td>&quot;control&quot;</td><td>&quot;target&quot;</td><td>&quot;patient&quot;</td><td>&quot;respectively&quot;</td></tr></tbody></table></div>"
            ]
          },
          "metadata": {},
          "execution_count": 102
        }
      ]
    },
    {
      "cell_type": "code",
      "source": [
        "import numpy as np\n",
        "\n",
        "# Assuming 'lsa_matrix' is your document-topic matrix\n",
        "\n",
        "top_documents_per_topic = []\n",
        "for i in range(lsa_matrix.shape[1]):  # Iterate over topics (columns)\n",
        "    document_value_pairs = list(enumerate(lsa_matrix[:, i]))\n",
        "    sorted_pairs = sorted(document_value_pairs, key=lambda pair: pair[1], reverse=True)\n",
        "    top_document_indices = [index for index, value in sorted_pairs[:30]]\n",
        "    top_documents_per_topic.append(top_document_indices)"
      ],
      "metadata": {
        "id": "dQc0TrjaXWpr"
      },
      "execution_count": 103,
      "outputs": []
    },
    {
      "cell_type": "code",
      "source": [
        "for i in cleaned_pubmed_df[top_documents_per_topic[21],:].iter_rows():\n",
        "    print(i)"
      ],
      "metadata": {
        "colab": {
          "base_uri": "https://localhost:8080/"
        },
        "id": "xYMZ5mzcYPza",
        "outputId": "db9d7220-b55e-4676-bb83-8cad181c8a18"
      },
      "execution_count": 106,
      "outputs": [
        {
          "output_type": "stream",
          "name": "stdout",
          "text": [
            "('35121993', 'astrocytic drive disseminate breast tumor cell dormancy brain', 'dormancy think play key role metastasis breast tumor cell brain knowledge molecular mechanism regulate disseminate tumor cell dtc dormancy organ limit serial intravital imaging dormant metastatic triple negative breast cancer line identify escape single cell micrometastatic state rate limit step brain metastasis dtc occupy vascular niche quiescent dtcs reside astrocyte endfeet site astrocyte deposit drive dtc quiescence induce dystroglycan receptor associate yes associate protein sequester nucleus prevent prometastatic function finding identify brain specific mechanism dtc dormancy highlight need thorough understanding tumor dormancy develop therapeutic approach prevent brain metastasis')\n",
            "('33378218', 'suppression alpha catenin adheren junction enhance epithelial cell proliferation motility tace mediate tgf alpha autocrine paracrine signaling', 'sustain cell migration essential wound healing cancer metastasis epidermal growth factor receptor egfr signal cascade know drive cell migration proliferation signal transduction downstream egfr extensively investigate knowledge initiation maintenance egfr signal cell migration remain limited metalloprotease tace tumor necrosis factor alpha convert enzyme responsible produce active egfr family ligand ligand shedding sustain tace activity perpetuate egfr signal reduce cell reliance exogenous growth factor cultured keratinocyte model system depletion alpha catenin perturb adheren junction enhance cell proliferation motility decrease dependence exogenous growth factor underlying mechanism observe phenotypical change depend enhanced autocrine paracrine release egfr ligand transform growth factor alpha tace dependent manner demonstrate proliferate keratinocyte epithelial cell cluster display wave oscillatory extracellular signal regulate kinase erk activity eliminate tace knockout suggest wave oscillatory erk activity depend autocrine paracrine signal produce tace result provide new insight regulatory role adheren junction initiate maintain autocrine paracrine signal relevance wound healing cellular transformation')\n",
            "('31781119', 'inhibit colon carcinogensis chronic colitis', 'inflammatory bowel disease increase risk develop colon cancer interleukin fundamental inhibitor innate immunity reduce systemic local inflammation protein express healthy diseased bowel liver tissue test transgenic expression human protect deficient mouse chronic colitis mouse crossbreed mouse homozygous drink dextran sulfate sodium dss water day induce mild colitis colon carcinogenesis trigger intragastric administration celecoxib endpoint clinical parameter colitis cytokine response lps stimulate blood explante colon speciman qpcr analysis colon biopsy colon inflammation number adenoma carcinoma analyze histology dss induction phase mouse similar weight loss mild acute colitis day significantly improve weight gain tg mouse colon length similar ex vivo lps stimulation blood compare mouse release ifngamma tnfalpha ex vivo colon culture show reduce production indicative reduced inflammatory condition influence mouse develop colon adenoma carcinoma adenoma carcinoma detect colon mouse conclusion transgene expression protect mouse colon carcinogenesis remain unclear direct tumor suppress property')\n",
            "('31829559', 'nonspecific binding rna lead catalytic activation', 'ribose polymerase respectively bind damage dna activate add long chain ribose par nuclear protein activation essential dna damage response par modification recruit dna repair machinery site dna damage result base excision single strand break repair homologous recombination nucleotide excision repair alternative nonhomologous end join recently show bind activate rna property interfere function response dna damage lead necrosis depletion cellular quantitatively evaluate vitro binding variety rna query ability rna switch enzymatic activity find protein bind rna specificity sequence structure interaction rna lead auto parylation promiscuous respect activation dna demonstrate exquisite selectivity activation rna')\n",
            "('37155029', 'solution nmr backbone assignment sly protein associate disorder region spider', 'scaffold protein context dependent biological function cell adhesion tumor metastasis lung development pigmentation member sly protein family contain conserved sly sam domain kda sly domain harbor variant associate pigmentation disorder solution structure dynamic investigate exact position sequence clearly define base bioinformatic experimental evidence propose rename region sly protein associate disorder region spider define exact position amino acid previously identify variant region link pigmentation disorder novel deuteration technique suite trosy base nmr experiment high quality hnn obtain near complete solution backbone assignment spider comparison chemical shift non variant spider show substitution alter free form solution structural propensity spider assignment step characterize role spider mediate cellular function provide model future study sister spider domain sly protein family')\n",
            "('34942200', 'expression difference family member uveal cutaneous melanomas account vary sensitivity mimetic', 'uveal melanoma um subtype melanoma share melanocytic origin cutaneous melanoma cm patient um treatment option homologous mimetic small molecule drug mimic proapoptotic family member compare family member expression um cm immunoblot cancer genome atlas transcriptomic analysis um unique signature low high puma protein compare cm cancer type make attractive candidate homologous protein mimetic test efficacy inhibitor inhibitor um viability assay live cell imaging sphere assay mouse xenograft model um high sensitivity cm overexpression knockdown puma um resistant contrast mapk extracellular kinase inhibitor treatment cm sensitive treatment effective reduce um initiate cell overcome employ combination inhibitor synergistically inhibit um initiate cell capacity expand overall identify distinct expression profile family member um make susceptible homologous mimetic')\n",
            "('32916850', 'deletion hyper activation stem cell lead development spontaneous squamous cell carcinoma', 'squamous cell carcinoma scc second commonest type skin cancer sccs head neck cancer hnsccs hnsccs harbor frequent molecular alteration gain function alteration bisphosphate kinase catalytic subunit alpha loss function mutation tumor protein remains poorly understand hnsccs harbor different genetic alteration exhibit differential immune tumor microenvironment tme remain unknown hyperactivation deletion lead scc development spontaneously analyze cancer genome atlas tcga dataset hnsccs find patient alteration exhibit bad survival significantly low tumor infiltrating lymphocyte til high macrophage control well model human tumorigenesis delete constitutively activate mouse express stem cell lead spontaneous development multilineage tumor include sccs term kppa tumor kppa tumor heavily infiltrate myeloid derive suppressor cell mdsc drastically increase ratio polymorphonuclear mdsc pmn mdsc versus monocytic mdsc m mdsc til express reduce polyfunctionality overall establish genetic model mimic human hnscc pathogenesis manifest immunosuppressive tme help elucidate immune evasion mechanism develop effective immunotherapy hnsccs')\n",
            "('33843587', 'molecular tracking device quantify antigen distribution archiving murine lymph node', 'detection foreign antigen vivo rely fluorescent conjugation indirect read out antigen presentation study find widely technique technical limitation preclude complete picture antigen trafficking retention lymph node cell type address limitation develop molecular tracking device follow distribution acquisition retention antigen lymph node utilize antigen conjugate nuclease resistant dna tag act combine antigen adjuvant conjugate single cell mrna sequence quantify antigen abundance lymph node variable antigen level enable identification caveolar endocytosis mechanism antigen acquisition retention lymphatic endothelial cell molecular tracking device enable new approach study dynamic tissue dissemination antigen adjuvant conjugate identify new mechanism antigen acquisition retention cellular resolution vivo')\n",
            "('34048471', 'negatively regulate erk mapk signal transition situ invasive breast ductal carcinoma', 'breast ductal carcinoma situ dcis non obligate precursor invasive ductal carcinoma idc unclear dcis invasive remain indolent patient receive surgery radiotherapy early intervention produce substantial decrease late stage disease sprouty protein important regulator erk mapk signal study cancer hypothesize endogenous inhibitor erk mapk signal loss reduce expression mechanism dcis lesion progress idc include triple negative disease immunohistochemistry find reduce expression idc patient sample compare dcis erk mapk phosphorylation inverse relationship expression observation reproduce culture model disease progression knockdown cell increase erk mapk phosphorylation invasive capability overexpression idc cell reduce erk mapk phosphorylation invasion aggressive phenotype exhibit cell immunofluorescence experiment reveal reorganization actin cytoskeleton relocation e cadherin cell surface consistent restoration adheren junction determine effect change erk mapk signal pharmacologically inhibit idc cell nanomolar concentration binimetinib restore epithelial like phenotype reduce pericellular proteolysis similar overexpression datum conclude act control erk mapk signal dcis limit progression premalignant breast lesion')\n",
            "('35358468', 'radiation recall infection', None)\n",
            "('33970084', 'colorectal cancer return work pilot study recruiting cancer survivor employer', 'introduction study assess feasibility recruit colorectal cancer survivor employer participate research return work cancer diagnosis method semistructure qualitative interview conduct survivor employer collect feedback recruitment approach employee cancer survivor focus approach researcher obtain employer contact information directly survivor employer focus approach researcher interview employer identify pathway recruit survivor supervisor dyad recording interview transcribe analyze result survivor participant consent follow supervisor supervisor respond decline participation study participate employer include compensation benefit manager human resource manager employer identify specific avenue potential recruitment survivor supervisor dyad include obtain organizational support participate type research discussion challenge opportunity exist employer focus recruitment approach finding suggest employer focus approach researcher obtain organizational support research promising recruit survivor supervisor dyad study cancer employment result study underscore importance gain support stakeholder administrator employee cancer survivor conclusion study inform recruitment strategy bring cancer survivor employer improve understanding barrier facilitator return work cancer effort develop intervention mitigate employment challenge cancer survivor')\n",
            "('34456736', 'cannabidiol induce apoptosis perturb mitochondrial function human canine glioma cell', 'cannabidiol cbd major non psychoactive compound find cannabis frequently nutraceutical therapeutic despite anecdotal evidence anticancer agent little know effect cbd cancer cell give intractability poor prognosis brain cancer human veterinary medicine seek characterize vitro cytotoxicity cbd human canine glioma glioma cell treat cbd show range cytotoxicity mug ml canine cell appear sensitive human treatment mug ml cbd invariably produce large cytosolic vesicle mode cell death interrogate pharmacologic inhibitor inhibition apoptosis sufficient rescue cbd mediate cytotoxicity inhibition classical necroptosis kinase rescue cell death prevent formation large cytosolic vesicle cellular mitochondrial activity presence cbd assess hour treatment cbd reduce oxygen consumption dose dependent manner complete ablation activity mug ml cbd fluorescent image mitochondrial specific dye reveal large cytosolic vesicle fact swollen mitochondria lastly calcium channel pharmacologically inhibit effect cell death determine inhibition mitochondrial channel channel rescue cell cbd mediate cytotoxicity result demonstrate cytotoxic nature cbd human canine glioma cell suggest mechanism action involve dysregulation calcium homeostasis mitochondrial activity')\n",
            "('35675778', 'assembly checkpoint proteasome regulatory particle activate coordinate action proteasomal atpase chaperone', 'proteasome holoenzyme regulate cellular proteome degrade protein subunit regulatory particle rp heterohexameric atpase enable protein degradation inject protein substrate core peptidase rp assembly utilize checkpoint multiple dedicated chaperone bind specific atpase subunit control addition subunit find rp assembly checkpoint rely common feature chaperone individual chaperone distinguish rp cognate atpase persist atp bind state chaperone modulate atpase activity facilitate rp subunit rearrangement switch active substrate process state result proteasome holoenzyme chaperone sense atp bind hydrolysis readout quality rp complex generate functional proteasome holoenzyme finding provide basis potentially exploit assembly checkpoint situation know deregulation proteasomal atpase chaperone')\n",
            "('35465865', 'risk bacterial bloodstream infection vary central line type neutropenic period pediatric acute myeloid leukemia', 'background bloodstream infection bsis frequent cause morbidity patient acute myeloid leukemia aml presence central venous access device cvad require deliver therapy objective determine differential risk bacterial bsi neutropenia cvad type pediatric patient aml method perform secondary analysis cohort pediatric patient chemotherapy course receive frontline aml chemotherapy center exposure cvad type course start tunnel externalize catheter tec peripherally insert central catheter picc totally implant catheter tic primary outcome course specific incident bacterial bsi secondary outcome include mucosal barrier injury non mbi bsi poisson regression compute adjust rate ratio compare bsi occurrence neutropenia line type control demographic clinical hospital level characteristic result rate bsi differ cvad type bsis neutropenic day tecs piccs tic adjustment statistically significant association cvad type bsi picc incident rate ratio irr confidence interval ci tic irr ci compare tec mbi non mbi examine separately result similar conclusion large multicenter cohort pediatric aml patient find difference rate bsi neutropenia cvad type risk profile bsi unique aml patient')\n",
            "('34636255', 'alliance rd postneoadjuvant t tucatinib placebo patient residual positive invasive breast cancer', 'report describe rationale purpose design rd ongoing prospective multicenter phase iii randomize trial eligible patient united states canada high risk define er negative node positive positive residual disease rd predefine course neoadjuvant chemotherapy direct treatment randomize adjuvant t placebo versus t tucatinib patient receive adjuvant radiotherapy endocrine therapy indicate standard care guideline primary objective trial determine invasive disease free survival idfs t plus tucatinib superior idfs t plus placebo outcome interest include overall survival os breast cancer free survival bcfs distant recurrence free survival drfs brain metastasis free survival bmfs disease free survival dfs correlative biomarker quality life qol pharmacokinetic pk end point evaluate')\n",
            "('31514959', 'metabolic time line pancreatic cancer opportunity improve early detection adenocarcinoma', 'background reliable biomarker detect pancreatic ductal adenocarcinoma pdac continue elusive employ metabolomic hypothesize broad analysis systemic blood differentiate different stage pdac method patient undergo pancreatic resection plasma sample group diagnosis assay mass spectrometry group neuroendocrine pnet intraductal papillary mucinous neoplasm ipmn localize pdac locally advanced pdac metastatic analyze assess metabolite delineation different stage adenocarcinoma result metabolite measure strong correlation disease burden metabolite differentiate stepwise progression malignancy principal component analysis identify metabolic component cancer cohort characterize unique combination component component predictor pdca stage conclusion enhance metabolomic analysis identify metabolic pathway assist differentiate pdca stage occur linear stepwise progression')\n",
            "('35182403', 'situ super resolution imaging organoid extracellular matrix interaction phototransfer allyl sulfide exchange expansion microscopy phase exm', 'organoid model recently see boom popularity well recapitulate complexity multicellular organ compare vitro culture system organoid difficult image limited penetration depth high resolution microscope depth dependent light attenuation limit understanding signal transduction pathway characterization intimate cell extracellular matrix ecm interaction overcome challenge phototransfer allyl sulfide exchange expansion microscopy phase exm develop enable optical clearance super resolution imaging organoid ecm phase exm use hydrogel prepare photoinitiated polymerization advantageous decouple monomer diffusion thick organoid culture hydrogel fabrication apart compatibility organoid culture matrigel phase exm enable expansion super resolution imaging organoid culture synthetic glycol peg hydrogel crosslinke allyl sulfide group peg al simultaneous photopolymerization radical mediate chain transfer reaction complete peg al hydrogel situ soften promote organoid crypt formation provide super resolution imaging platform post differentiated organoid overall phase exm useful tool decipher organoid behavior enable sub micrometer scale visualization protein signal transduction pathway')\n",
            "('31773633', 'surgical management consideration cystic prolactinomas single center case series', 'purpose optimal treatment prolactinoma predominantly cystic component remain poorly define cystic tumor component consider respond favorably medical treatment advocate surgical management purpose study assess remission rate surgically treat cystic prolactinoma compare outcome similarly treat solid macroprolactinomas method clinical imaging datum retrospectively compile patient undergo transsphenoidal resection symptomatic prolactinoma single academic institution pituitary adenomas subdivide accord tumor size tumor consistency cystic prolactinomas cystic tumor component n solid microprolactinoma mm n solid macroprolactinoma mm n remission define prolactin level ng dl immediately postoperative later time point result median tumor size mm cystic prolactinomas mm solid microprolactinoma mm solid macroprolactinoma remission achieve n surgically treat cystic prolactinomas n solid microprolactinoma n solid macroprolactinoma solid macroprolactinoma knosp grade cystic prolactinoma solid microprolactinoma knosp grade conclusion despite large tumor size mm high remission rate expect surgically treat cystic prolactinoma case series cystic prolactinomas demonstrate successful use transsphenoidal surgery favorable potentially curative alternative dopaminergic therapy patient population')\n",
            "('33184109', 'estrogen receptor alpha mutation breast cancer cell cause gene expression change constant activity secondary effect', 'breast cancer patient tumor express estrogen receptor alpha er generally respond hormone therapy block er activity significant number patient relapse approximately recurrence harbor activate mutation ligand bind domain lbd er show confer ligand independent function unclear effect mutant er estrogen independence investigate molecular effect mutant er develop multiple isogenic er mutant cell line common lbd mutation mutation induce differential expression thousand gene majority mutant allele specific observe estrogen treatment wild type wt cell mutant specific gene show consistent differential expression er mutant line develop laboratory wt cell long term estrogen exposure exhibit transcriptional change suggest mutant er cause novel regulatory effect simply constant activity er mutation exhibit minor effect er genomic binding exception ligand independence er mutation confer substantial difference chromatin accessibility mutant er bind approximately quarter mutant enrich accessible region enrich dna bind factor include ctcf overall finding indicate mutant er cause consistent effect gene expression indirectly constant activity significance study demonstrate multiple role mutant er breast cancer progression include constant er activity secondary regulatory effect gene expression chromatin accessibility graphical abstract relate commentary hermida prado jeselsohn related article williams colleague')\n",
            "('32925169', 'perforin deficient car t cell recapitulate late onset inflammatory toxicity observe patient', 'late onset inflammatory toxicity resemble hemophagocytic lymphohistiocytosis hlh macrophage activation syndrome mas occur chimeric antigen receptor t cell car t cell infusion represent therapeutic challenge give establish link perforin deficiency primary hlh investigate role perforin anti car t cell efficacy hlh like toxicity syngeneic murine model perforin contribute car t cell cytotoxicity require vitro vivo leukemia clearance car mediate vitro activation perforin deficient car t cell produce high amount proinflammatory cytokine compare wt car t cell follow vivo clearance leukemia perforin deficient car t cell reexpande result splenomegaly disruption normal splenic architecture presence hemophagocyte finding reminiscent hlh notably substantial fraction patient receive anti car t cell experience biphasic inflammation second phase occur resolution cytokine release syndrome resemble clinical manifestation hlh elevate inflammatory cytokine concurrent late car t cell expansion characterize hlh like syndrome occur murine model human murine model perforin deficient car t cell recapitulate late onset inflammatory toxicity occur human car t cell recipient provide therapeutically relevant mechanistic insight')\n",
            "('32427883', 'mhc class independent activation virtual memory t cell induce chemotherapeutic agent treat cancer cell', 'cancer cell evade immune recognition lose major histocompatibility complex mhc class mhc class negative cancer represent challenging cancer treat chemotherapeutic drug directly kill tumor modulate tumor immune microenvironment remain unknown chemotherapy treat cancer cell activate t cell independent tumor derive mhc class mhc class independent t cell activation exploit cancer immunotherapy show chemotherapy treat cancer cell directly activate t cell mhc class independent manner activate t cell exhibit virtual memory vm phenotype consistently vivo chemotherapeutic treatment preferentially increase tumor infiltrate vm t cell mechanistically mhc class independent activation t cell require cell cell contact activation pathway vm t cell contribute superior therapeutic effect mhc class deficient tumor humanize mouse model primary human t cell demonstrate chemotherapy treat human lymphomas activate vm t cell independent tumor derive mhc class conclusion t cell directly activate mhc class independent manner chemotherapy treat cancer activate t cell exploit develop new strategy treat mhc class deficient cancer')\n",
            "('30847703', 'friend good friend nomination pediatric brain tumor survivor associate factor', 'background pediatric brain tumor survivor pbtss risk impairment social competence limited information available nomination reciprocate nomination pbtss good friend factor predict procedure caregiver child n age low grade glioma medulloblastoma complete rating child adjustment baseline pbtss classmate complete good friend measure approximately month later sociometric datum yield rating good friend nomination reciprocate good friend nomination result nomination pbtss good friend significantly different control pbtss few reciprocate good friend nomination control approximately half pbtss study reciprocate good friend nomination nominate peer good friend great symptom depression low social skill pbtss associate few nomination good friend peer great likelihood reciprocal good friend nomination great difficulty emotional control associate few nomination good friend peer conclusion discrepancy reciprocate good friend nomination good friend nomination highlight need attend reciprocal friendship pbtss understand social information process population longitudinal analysis illustrate impact emotional adjustment pbt friendship')\n",
            "('31710664', 'factor associate use high cost agent treatment metastatic non small cell lung cancer', 'background antineoplastic agent approve recent decade marked advancement cancer treatment come considerable cost drug widen survival disparity patient receive agent examine factor associate use high cost antineoplastic agent treatment metastatic non small cell lung cancer method conduct retrospective observational study surveillance epidemiology end result medicare datum supplement area health resource file patient age year old enrol fee service medicare d diagnose primary diagnosis metastatic non small cell lung cancer receive antineoplastic agent high cost agent define agent cost month independent variable include race ethnicity urban rural residency census tract poverty treatment facility type eg national cancer institute designation result patient live area high poverty percentage point likely receive high cost agent sided p patient treat national cancer institute designate center percentage point likely receive agent sided p percentage point increase likelihood receive high cost agent observe compare highlight rapid change practice pattern sided p conclusion potential policy care delivery solution involve outreach support community physician treat patient remote area estimate widespread use agent conservatively cost approximately billion year treatment metastatic non small cell lung cancer')\n",
            "('37114557', 'target inhibition group medulloblastoma', 'aggressive subtype medulloblastoma mb group characterize myc amplification target myc prove unsuccessful remain lack therapeutic target treat mb study show homolog promote cell proliferation tumor cell invasion variety cancer similarly recently reveal promote angiogenesis group mb likely facilitate mb metastasis exosome biogenesis therapy target remain early stage development target upstream regulator expression effective halt mb progression notably myc enhancer zeste homolog know regulate expression previous study author suggest amplification present mb likely result mediate activity present study report overexpression associate low overall survival group mb patient reveal inhibition significantly reduce myc transcript level upregulate indicate regulate expression group mb cell pharmacological inhibition attenuate mb cell viability reduce expression similarly pharmacological inhibition knockdown lead downregulation myc silence induced apoptosis reduce ability mb cell inhibition neural stem cell induce m phase arrest downregulate expression collectively current study position viable target future development mb treatment target combination immunotherapy effective treatment halt mb progression')\n",
            "('33649199', 'target tumor derive reduce melanoma progression limit mdsc expansion', 'inflammation suppresse antitumor immunity lead generation tumor permissive environment tumor growth progression demonstrate nucleotide bind domain leucine rich contain family pyrin domain inflammasome activation melanoma link production inflammation immunosuppression analysis cancer genome dataset tcga gtex reveal great expression cutaneous melanoma sample n compare normal skin n highly significant correlation p formation inflammasome biopsy metastatic melanoma fluorescent resonance energy transfer analysis apoptosis associate speck like protein contain card vivo tumor associate signal induce expansion myeloid derive suppressor cell mdsc lead reduce natural killer t cell activity concomitant increase presence regulatory t treg cell primary tumor genetic pharmacological inhibition tumor derive dapansutrile sufficient reduce mdsc expansion enhance antitumor immunity result reduce tumor growth additionally observe combination inhibition anti treatment significantly increase antitumor efficacy monotherapy limit mdsc mediate t cell suppression tumor progression datum activation melanoma cell protumor mechanism induce mdsc expansion immune evasion conclude inhibition augment efficacy anti therapy')\n",
            "('37110126', 'therapy resistant acute myeloid leukemia stem cell resensitize venetoclax azacitidine target fatty acid desaturase', 'recent advance target leukemic stem cell lscs venetoclax azacitidine ven aza significantly improve outcome de novo acute myeloid leukemia aml patient patient relapse traditional chemotherapy venetoclax resistant exhibit poor clinical outcome previously describe fatty acid metabolism drive oxidative phosphorylation oxphos act mechanism lsc survival relapse refractory aml report chemotherapy relapse primary aml display aberrant fatty acid lipid metabolism increase fatty acid desaturation activity fatty acid desaturase fatty acid desaturase function mechanism recycle drive relapse lsc survival combine ven aza genetic pharmacologic inhibition fatty acid desaturation result decrease primary aml viability relapse aml study include large lipidomic profile lsc enrich primary aml patient cell date indicate inhibition fatty acid desaturation promising therapeutic target relapse aml')\n",
            "('35899472', 'pharmacokinetic anti nausea effect intravenous ondansetron hospitalize dog exhibit clinical sign nausea', 'purpose study evaluate pharmacokinetic intravenous iv ondansetron population hospitalize dog exhibit clinical sign nausea cause nausea include pancreatitis gastroenteritis endocarditis chemotherapy induce nausea diabetes mellitus ketoacidosis acute kidney injury aspiration pneumonia pyometra uroabdomen neoplasia hepatopathy dog randomly assign follow iv ondansetron protocol mg kg mg kg mg kg mg kg serum collect h dose nausea score record multiple time point ondansetron arginine vasopressin avp concentration measure high performance liquid chromatography couple tandem mass spectrometry elisa respectively noncompartmental pharmacokinetic modeling dose interval modeling perform ondansetron display linear pharmacokinetic mg kg group mean ng ml ng calculate half life mg kg group mean ng ml ng calculate half life serum ondansetron concentration significantly different dog require rescue anti nausea medication non responder dog require rescue therapy responder total patient mg kg mg kg mg kg group improvement nausea score total patient mg kg group improvement nausea score total patient resolution nausea mg kg mg kg mg kg group patient resolution nausea mg kg group avp concentration highly variable correlate nausea score nausea score significantly decrease regardless dosage protocol avp reliable biomarker nausea group dog')\n",
            "('34848497', 'complex suppresse antitumor immunity', 'tumor immune microenvironment influence epigenetic landscape tumor identify complex critical suppressor antitumor immunity epigenetic crispr screen chromatin regulator identify suppressor pd expression reveal expression complex negatively correlate infiltration effector t cell inhibition simultaneously upregulate pd activate cyclic gmp amp synthase interferon gene sting innate immune response pathway increase infiltration t cell mechanistically inhibition lead micronuclei formation cytoplasm know activate cgas ste pathway inhibition bridge innate adaptive immunity knockout enhance antitumor effect immune checkpoint blockade anti pd mouse model ovarian cancer cgas dependent manner finding establish complex regulator antitumor immunity demonstrate loss activate cgas sting innate immunity boost antitumor effect immune checkpoint blockade')\n",
            "('32506370', 'retrospective analysis combination carboplatin vinblastine pediatric low grade glioma', 'introduction low grade glioma lgg represent common pediatric central nervous system tumor total surgical resection feasible chemotherapy line therapy child multiple pediatric lgg chemotherapy regimen investigate variable year event free survival efs rate date treatment pediatric lgg carboplatin vinblastine c vbl chemotherapy regiman evaluate phase dose finding study method retrospective review pediatric patient lgg treat c vbl child hospital colorado akron child hospital conduct datum collect include patient demographic tumor location disease response neurofibromatosis status therapy duration toxicity response therapy determine objective finding image treat physician evaluation result patient identify analysis chemotherapy naive patient treat cohort braf fusion identify test tumor good therapy response partial response patient stable disease patient patient progressive disease year year year efs probability patient respectively patient admission febrile neutropenia seven patient experience delay chemotherapy neutropenia patient discontinue chemotherapy regimen treatment relate toxicity carboplatin allergy n vinblastine neuropathy n conclusion c vbl achieve similar efs rate single agent combination cytotoxic chemotherapy regimen pediatric lgg manageable toxicity')\n",
            "('34545083', 'radiation induce glioma represent wild type pediatric glioma recurrent pdgfra amplification loss', 'long term complication radiation induce second malignancy occur subset patient follow radiation therapy particularly relevant pediatric patient long follow period case survival radiation induce glioma rig report patient treatment cranial irradiation primary malignancy acute lymphoblastic leukemia medulloblastoma mb perform comprehensive genetic expression profiling rig arise cranial irradiation mb n n study reveal unifying molecular signature majority rig recurrent pdgfra amplification loss b absence somatic hotspot mutation gene encode histone variant uncover diagnostic marker potentially actionable target')\n"
          ]
        }
      ]
    },
    {
      "cell_type": "code",
      "source": [],
      "metadata": {
        "id": "ERUco1AGYWD8"
      },
      "execution_count": null,
      "outputs": []
    }
  ]
}