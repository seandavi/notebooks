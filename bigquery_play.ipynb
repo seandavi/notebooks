{
 "cells": [
  {
   "cell_type": "code",
   "execution_count": 1,
   "id": "8a43f5ca-7b03-49c1-9908-f0ebcdf31072",
   "metadata": {},
   "outputs": [],
   "source": [
    "%%capture\n",
    "%pip install google-cloud-bigquery"
   ]
  },
  {
   "cell_type": "code",
   "execution_count": 2,
   "id": "6ae0fe7e-9225-4f43-8ffa-898918f94f82",
   "metadata": {},
   "outputs": [],
   "source": [
    "from google.cloud import bigquery"
   ]
  },
  {
   "cell_type": "code",
   "execution_count": 3,
   "id": "4a61f26f-aede-4ec8-b9e9-891c6ace79b2",
   "metadata": {},
   "outputs": [],
   "source": [
    "PROJECT_ID = 'omicidx-338300'\n",
    "client = bigquery.Client(project=PROJECT_ID)"
   ]
  },
  {
   "cell_type": "code",
   "execution_count": 4,
   "id": "b2fe9fab-a280-43f3-b5e0-993d419dcc6f",
   "metadata": {},
   "outputs": [],
   "source": [
    "avail_datasets = list([ds.dataset_id for ds in client.list_datasets()])"
   ]
  },
  {
   "cell_type": "code",
   "execution_count": 5,
   "id": "0962690e-321e-44d4-8ce4-cee926481223",
   "metadata": {},
   "outputs": [
    {
     "data": {
      "text/plain": [
       "['auditlog_dataset', 'biodatalake']"
      ]
     },
     "execution_count": 5,
     "metadata": {},
     "output_type": "execute_result"
    }
   ],
   "source": [
    "avail_datasets"
   ]
  },
  {
   "cell_type": "code",
   "execution_count": 6,
   "id": "b607bf11-ed8c-475c-8e5a-895260591da5",
   "metadata": {},
   "outputs": [],
   "source": [
    "avail_tables = list([tb.table_id for tb in client.list_tables('biodatalake')])"
   ]
  },
  {
   "cell_type": "code",
   "execution_count": 7,
   "id": "510953ab-3c8b-44ea-bcd3-eb805b4a774e",
   "metadata": {},
   "outputs": [
    {
     "data": {
      "text/plain": [
       "['int_pubmed_chemicals',\n",
       " 'int_pubmed_cited_by',\n",
       " 'int_pubmed_mesh_terms',\n",
       " 'int_pubmed_publication_types',\n",
       " 'pm_short_temp']"
      ]
     },
     "execution_count": 7,
     "metadata": {},
     "output_type": "execute_result"
    }
   ],
   "source": [
    "avail_tables[0:5]"
   ]
  },
  {
   "cell_type": "code",
   "execution_count": null,
   "id": "5690f89d-f23e-456e-a68a-b22ceed6183a",
   "metadata": {},
   "outputs": [],
   "source": []
  }
 ],
 "metadata": {
  "kernelspec": {
   "display_name": "Python 3 (ipykernel)",
   "language": "python",
   "name": "python3"
  },
  "language_info": {
   "codemirror_mode": {
    "name": "ipython",
    "version": 3
   },
   "file_extension": ".py",
   "mimetype": "text/x-python",
   "name": "python",
   "nbconvert_exporter": "python",
   "pygments_lexer": "ipython3",
   "version": "3.11.1"
  }
 },
 "nbformat": 4,
 "nbformat_minor": 5
}
