{
 "cells": [
  {
   "cell_type": "code",
   "execution_count": 1,
   "id": "8a43f5ca-7b03-49c1-9908-f0ebcdf31072",
   "metadata": {},
   "outputs": [
    {
     "name": "stdout",
     "output_type": "stream",
     "text": [
      "Requirement already satisfied: google-cloud-bigquery in /Users/seandavis/.pyenv/versions/3.11.1/lib/python3.11/site-packages (3.11.4)\n",
      "Requirement already satisfied: grpcio<2.0dev,>=1.47.0 in /Users/seandavis/.pyenv/versions/3.11.1/lib/python3.11/site-packages (from google-cloud-bigquery) (1.59.0)\n",
      "Requirement already satisfied: google-api-core[grpc]!=2.0.*,!=2.1.*,!=2.2.*,!=2.3.0,<3.0.0dev,>=1.31.5 in /Users/seandavis/.pyenv/versions/3.11.1/lib/python3.11/site-packages (from google-cloud-bigquery) (2.11.0)\n",
      "Requirement already satisfied: proto-plus<2.0.0dev,>=1.15.0 in /Users/seandavis/.pyenv/versions/3.11.1/lib/python3.11/site-packages (from google-cloud-bigquery) (1.22.3)\n",
      "Requirement already satisfied: google-cloud-core<3.0.0dev,>=1.6.0 in /Users/seandavis/.pyenv/versions/3.11.1/lib/python3.11/site-packages (from google-cloud-bigquery) (2.3.2)\n",
      "Requirement already satisfied: google-resumable-media<3.0dev,>=0.6.0 in /Users/seandavis/.pyenv/versions/3.11.1/lib/python3.11/site-packages (from google-cloud-bigquery) (2.5.0)\n",
      "Requirement already satisfied: packaging>=20.0.0 in /Users/seandavis/.pyenv/versions/3.11.1/lib/python3.11/site-packages (from google-cloud-bigquery) (23.2)\n",
      "Requirement already satisfied: protobuf!=3.20.0,!=3.20.1,!=4.21.0,!=4.21.1,!=4.21.2,!=4.21.3,!=4.21.4,!=4.21.5,<5.0.0dev,>=3.19.5 in /Users/seandavis/.pyenv/versions/3.11.1/lib/python3.11/site-packages (from google-cloud-bigquery) (4.24.0)\n",
      "Requirement already satisfied: python-dateutil<3.0dev,>=2.7.2 in /Users/seandavis/.pyenv/versions/3.11.1/lib/python3.11/site-packages (from google-cloud-bigquery) (2.8.2)\n",
      "Requirement already satisfied: requests<3.0.0dev,>=2.21.0 in /Users/seandavis/.pyenv/versions/3.11.1/lib/python3.11/site-packages (from google-cloud-bigquery) (2.31.0)\n",
      "Requirement already satisfied: googleapis-common-protos<2.0dev,>=1.56.2 in /Users/seandavis/.pyenv/versions/3.11.1/lib/python3.11/site-packages (from google-api-core[grpc]!=2.0.*,!=2.1.*,!=2.2.*,!=2.3.0,<3.0.0dev,>=1.31.5->google-cloud-bigquery) (1.59.0)\n",
      "Requirement already satisfied: google-auth<3.0dev,>=2.14.1 in /Users/seandavis/.pyenv/versions/3.11.1/lib/python3.11/site-packages (from google-api-core[grpc]!=2.0.*,!=2.1.*,!=2.2.*,!=2.3.0,<3.0.0dev,>=1.31.5->google-cloud-bigquery) (2.17.3)\n",
      "Requirement already satisfied: grpcio-status<2.0dev,>=1.33.2 in /Users/seandavis/.pyenv/versions/3.11.1/lib/python3.11/site-packages (from google-api-core[grpc]!=2.0.*,!=2.1.*,!=2.2.*,!=2.3.0,<3.0.0dev,>=1.31.5->google-cloud-bigquery) (1.57.0)\n",
      "Requirement already satisfied: google-crc32c<2.0dev,>=1.0 in /Users/seandavis/.pyenv/versions/3.11.1/lib/python3.11/site-packages (from google-resumable-media<3.0dev,>=0.6.0->google-cloud-bigquery) (1.5.0)\n",
      "Requirement already satisfied: six>=1.5 in /Users/seandavis/.pyenv/versions/3.11.1/lib/python3.11/site-packages (from python-dateutil<3.0dev,>=2.7.2->google-cloud-bigquery) (1.16.0)\n",
      "Requirement already satisfied: charset-normalizer<4,>=2 in /Users/seandavis/.pyenv/versions/3.11.1/lib/python3.11/site-packages (from requests<3.0.0dev,>=2.21.0->google-cloud-bigquery) (3.3.2)\n",
      "Requirement already satisfied: idna<4,>=2.5 in /Users/seandavis/.pyenv/versions/3.11.1/lib/python3.11/site-packages (from requests<3.0.0dev,>=2.21.0->google-cloud-bigquery) (3.4)\n",
      "Requirement already satisfied: urllib3<3,>=1.21.1 in /Users/seandavis/.pyenv/versions/3.11.1/lib/python3.11/site-packages (from requests<3.0.0dev,>=2.21.0->google-cloud-bigquery) (1.26.18)\n",
      "Requirement already satisfied: certifi>=2017.4.17 in /Users/seandavis/.pyenv/versions/3.11.1/lib/python3.11/site-packages (from requests<3.0.0dev,>=2.21.0->google-cloud-bigquery) (2023.11.17)\n",
      "Requirement already satisfied: cachetools<6.0,>=2.0.0 in /Users/seandavis/.pyenv/versions/3.11.1/lib/python3.11/site-packages (from google-auth<3.0dev,>=2.14.1->google-api-core[grpc]!=2.0.*,!=2.1.*,!=2.2.*,!=2.3.0,<3.0.0dev,>=1.31.5->google-cloud-bigquery) (5.3.0)\n",
      "Requirement already satisfied: pyasn1-modules>=0.2.1 in /Users/seandavis/.pyenv/versions/3.11.1/lib/python3.11/site-packages (from google-auth<3.0dev,>=2.14.1->google-api-core[grpc]!=2.0.*,!=2.1.*,!=2.2.*,!=2.3.0,<3.0.0dev,>=1.31.5->google-cloud-bigquery) (0.3.0)\n",
      "Requirement already satisfied: rsa<5,>=3.1.4 in /Users/seandavis/.pyenv/versions/3.11.1/lib/python3.11/site-packages (from google-auth<3.0dev,>=2.14.1->google-api-core[grpc]!=2.0.*,!=2.1.*,!=2.2.*,!=2.3.0,<3.0.0dev,>=1.31.5->google-cloud-bigquery) (4.9)\n",
      "Requirement already satisfied: pyasn1<0.6.0,>=0.4.6 in /Users/seandavis/.pyenv/versions/3.11.1/lib/python3.11/site-packages (from pyasn1-modules>=0.2.1->google-auth<3.0dev,>=2.14.1->google-api-core[grpc]!=2.0.*,!=2.1.*,!=2.2.*,!=2.3.0,<3.0.0dev,>=1.31.5->google-cloud-bigquery) (0.5.0)\n",
      "\n",
      "\u001b[1m[\u001b[0m\u001b[34;49mnotice\u001b[0m\u001b[1;39;49m]\u001b[0m\u001b[39;49m A new release of pip is available: \u001b[0m\u001b[31;49m23.1.2\u001b[0m\u001b[39;49m -> \u001b[0m\u001b[32;49m23.3.2\u001b[0m\n",
      "\u001b[1m[\u001b[0m\u001b[34;49mnotice\u001b[0m\u001b[1;39;49m]\u001b[0m\u001b[39;49m To update, run: \u001b[0m\u001b[32;49mpip install --upgrade pip\u001b[0m\n",
      "Note: you may need to restart the kernel to use updated packages.\n"
     ]
    }
   ],
   "source": [
    "%\n",
    "%pip install google-cloud-bigquery"
   ]
  },
  {
   "cell_type": "code",
   "execution_count": 2,
   "id": "6ae0fe7e-9225-4f43-8ffa-898918f94f82",
   "metadata": {},
   "outputs": [],
   "source": [
    "from google.cloud import bigquery"
   ]
  },
  {
   "cell_type": "code",
   "execution_count": 3,
   "id": "4a61f26f-aede-4ec8-b9e9-891c6ace79b2",
   "metadata": {},
   "outputs": [],
   "source": [
    "PROJECT_ID = 'omicidx-338300'\n",
    "client = bigquery.Client(project=PROJECT_ID)"
   ]
  },
  {
   "cell_type": "code",
   "execution_count": 11,
   "id": "b2fe9fab-a280-43f3-b5e0-993d419dcc6f",
   "metadata": {},
   "outputs": [],
   "source": [
    "avail_datasets = list([ds.dataset_id for ds in client.list_datasets()])"
   ]
  },
  {
   "cell_type": "code",
   "execution_count": 12,
   "id": "0962690e-321e-44d4-8ce4-cee926481223",
   "metadata": {},
   "outputs": [
    {
     "data": {
      "text/plain": [
       "['auditlog_dataset', 'biodatalake']"
      ]
     },
     "execution_count": 12,
     "metadata": {},
     "output_type": "execute_result"
    }
   ],
   "source": [
    "avail_datasets"
   ]
  },
  {
   "cell_type": "code",
   "execution_count": 14,
   "id": "b607bf11-ed8c-475c-8e5a-895260591da5",
   "metadata": {},
   "outputs": [],
   "source": [
    "avail_tables = list([tb.table_id for tb in client.list_tables('biodatalake')])"
   ]
  },
  {
   "cell_type": "code",
   "execution_count": 15,
   "id": "510953ab-3c8b-44ea-bcd3-eb805b4a774e",
   "metadata": {},
   "outputs": [
    {
     "data": {
      "text/plain": [
       "['int_pubmed_chemicals',\n",
       " 'int_pubmed_cited_by',\n",
       " 'int_pubmed_mesh_terms',\n",
       " 'int_pubmed_publication_types',\n",
       " 'pm_short_temp']"
      ]
     },
     "execution_count": 15,
     "metadata": {},
     "output_type": "execute_result"
    }
   ],
   "source": [
    "avail_tables[0:5]"
   ]
  },
  {
   "cell_type": "code",
   "execution_count": null,
   "id": "5690f89d-f23e-456e-a68a-b22ceed6183a",
   "metadata": {},
   "outputs": [],
   "source": []
  }
 ],
 "metadata": {
  "kernelspec": {
   "display_name": "Python 3 (ipykernel)",
   "language": "python",
   "name": "python3"
  },
  "language_info": {
   "codemirror_mode": {
    "name": "ipython",
    "version": 3
   },
   "file_extension": ".py",
   "mimetype": "text/x-python",
   "name": "python",
   "nbconvert_exporter": "python",
   "pygments_lexer": "ipython3",
   "version": "3.11.1"
  }
 },
 "nbformat": 4,
 "nbformat_minor": 5
}
