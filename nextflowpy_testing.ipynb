{
 "cells": [
  {
   "cell_type": "markdown",
   "id": "b7995244-bfde-4c48-b1fb-7cc1a4c75730",
   "metadata": {
    "tags": []
   },
   "source": [
    "# Nextflow from python\n",
    "\n",
    "<a target=\"_blank\" href=\"https://colab.research.google.com/github/seandavi/notebooks/blob/main/intro_to_unstructured.ipynb\">\n",
    "  <img src=\"https://colab.research.google.com/assets/colab-badge.svg\" alt=\"Open In Colab\"/>\n",
    "</a>\n",
    "\n",
    "nextflow.py is a Python wrapper around the Nextflow pipeline framework. \n",
    "It lets you run Nextflow pipelines from Python code.\n",
    "\n",
    "* <https://pypi.org/project/nextflowpy/>\n"
   ]
  },
  {
   "cell_type": "code",
   "execution_count": 1,
   "id": "e52c074c-2d09-44ee-a6c7-27d4f41530a6",
   "metadata": {
    "tags": []
   },
   "outputs": [],
   "source": [
    "%%capture\n",
    "%pip install nextflowpy\n",
    "%pip install pandas"
   ]
  },
  {
   "cell_type": "markdown",
   "id": "c8d23c9e-2dfb-45b0-ac2d-2c9b6695c80c",
   "metadata": {
    "tags": []
   },
   "source": [
    "### Nextflow installed?\n",
    "\n",
    "Nextflow command line tool needs to be installed and on the path."
   ]
  },
  {
   "cell_type": "code",
   "execution_count": 2,
   "id": "f24f647c-74b4-4717-b94f-2ac404c3d3cd",
   "metadata": {
    "tags": []
   },
   "outputs": [],
   "source": [
    "from nextflow import pipeline\n",
    "import pandas as pd"
   ]
  },
  {
   "cell_type": "code",
   "execution_count": 3,
   "id": "09dba35a-7bfa-45b6-94eb-c38ff7fa91af",
   "metadata": {
    "tags": []
   },
   "outputs": [],
   "source": [
    "mainnf = '''#!/usr/bin/env nextflow\n",
    "\n",
    "process sayHello {\n",
    "  input: \n",
    "    val x\n",
    "  output:\n",
    "    stdout\n",
    "  script:\n",
    "    \"\"\"\n",
    "    echo '$x world!'\n",
    "    \"\"\"\n",
    "}\n",
    "\n",
    "workflow {\n",
    "  Channel.of('Bonjour', 'Ciao', 'Hello', 'Hola') | sayHello | view\n",
    "}\n",
    "'''\n",
    "with open('main.nf', 'w') as mainnf_file:\n",
    "    mainnf_file.write(mainnf)"
   ]
  },
  {
   "cell_type": "code",
   "execution_count": 4,
   "id": "67eaf1ad-bdb7-466f-85a9-6c34c8d2099a",
   "metadata": {
    "tags": []
   },
   "outputs": [],
   "source": [
    "execution = pipeline.run('main.nf')"
   ]
  },
  {
   "cell_type": "code",
   "execution_count": 5,
   "id": "434c346f-1d0f-4253-870d-02bbe5542036",
   "metadata": {},
   "outputs": [
    {
     "data": {
      "text/plain": [
       "'nextflow -Duser.country=US run /Users/seandavis/Documents/git/notebooks/main.nf\\n'"
      ]
     },
     "execution_count": 5,
     "metadata": {},
     "output_type": "execute_result"
    }
   ],
   "source": [
    "execution.command"
   ]
  },
  {
   "cell_type": "code",
   "execution_count": 6,
   "id": "cc8e4206-5ef5-4de0-8e1f-6b18b6b245aa",
   "metadata": {},
   "outputs": [
    {
     "data": {
      "text/plain": [
       "3.0"
      ]
     },
     "execution_count": 6,
     "metadata": {},
     "output_type": "execute_result"
    }
   ],
   "source": [
    "execution.duration"
   ]
  },
  {
   "cell_type": "code",
   "execution_count": 7,
   "id": "eb365c5d-9202-41f1-ba1a-3ccca07ed4d8",
   "metadata": {},
   "outputs": [
    {
     "data": {
      "text/plain": [
       "[<ProcessExecution from grave_elion: sayHello (1)>,\n",
       " <ProcessExecution from grave_elion: sayHello (4)>,\n",
       " <ProcessExecution from grave_elion: sayHello (3)>,\n",
       " <ProcessExecution from grave_elion: sayHello (2)>]"
      ]
     },
     "execution_count": 7,
     "metadata": {},
     "output_type": "execute_result"
    }
   ],
   "source": [
    "execution.process_executions"
   ]
  },
  {
   "cell_type": "code",
   "execution_count": 8,
   "id": "35ace548-7231-47bf-9ab9-52b3c5856306",
   "metadata": {},
   "outputs": [
    {
     "name": "stdout",
     "output_type": "stream",
     "text": [
      "#!/bin/bash -ue\n",
      "echo 'Bonjour world!'\n",
      "\n",
      "#!/bin/bash -ue\n",
      "echo 'Hola world!'\n",
      "\n",
      "#!/bin/bash -ue\n",
      "echo 'Hello world!'\n",
      "\n",
      "#!/bin/bash -ue\n",
      "echo 'Ciao world!'\n",
      "\n"
     ]
    }
   ],
   "source": [
    "for pe in execution.process_executions:\n",
    "    print(pe.bash)"
   ]
  },
  {
   "cell_type": "code",
   "execution_count": 9,
   "id": "cc45eb87-a397-4bdd-99c6-3dce17293645",
   "metadata": {},
   "outputs": [
    {
     "data": {
      "text/plain": [
       "1703938142.0"
      ]
     },
     "execution_count": 9,
     "metadata": {},
     "output_type": "execute_result"
    }
   ],
   "source": [
    "execution.started"
   ]
  },
  {
   "cell_type": "code",
   "execution_count": 10,
   "id": "4f3e9637-3e9e-4bbd-83aa-0d5f13c0a014",
   "metadata": {},
   "outputs": [
    {
     "data": {
      "text/plain": [
       "'2023-12-30 07:09:02'"
      ]
     },
     "execution_count": 10,
     "metadata": {},
     "output_type": "execute_result"
    }
   ],
   "source": [
    "execution.started_string"
   ]
  },
  {
   "cell_type": "code",
   "execution_count": 18,
   "id": "7dbd6821-020e-42d1-b02e-d2121730932e",
   "metadata": {},
   "outputs": [
    {
     "name": "stdout",
     "output_type": "stream",
     "text": [
      "N E X T F L O W  ~  version 23.10.0\n",
      "Launching `/Users/seandavis/Documents/git/notebooks/main.nf` [prickly_montalcini] DSL2 - revision: c3e999c295\n",
      "[b0/2350fb] Submitted process > sayHello (3)\n",
      "[32/e114c0] Submitted process > sayHello (4)\n",
      "[79/eb0aa9] Submitted process > sayHello (1)\n",
      "[5a/57b724] Submitted process > sayHello (2)\n",
      "/Users/seandavis/Documents/git/notebooks/work/b0/2350fbd69de06d451967bc4480998c/file.out\n",
      "/Users/seandavis/Documents/git/notebooks/work/32/e114c00542d11e43490f4a221b6f65/file.out\n",
      "/Users/seandavis/Documents/git/notebooks/work/79/eb0aa9ac6928ee08a6ab8188ce88d4/file.out\n",
      "/Users/seandavis/Documents/git/notebooks/work/5a/57b7240858f0da5b0ad2c3443d4296/file.out\n",
      "\n"
     ]
    }
   ],
   "source": [
    "print(execution.stdout)"
   ]
  },
  {
   "cell_type": "code",
   "execution_count": 12,
   "id": "d630ecfe-98aa-4b10-bfda-4965e88bc301",
   "metadata": {},
   "outputs": [
    {
     "data": {
      "text/plain": [
       "''"
      ]
     },
     "execution_count": 12,
     "metadata": {},
     "output_type": "execute_result"
    }
   ],
   "source": [
    "execution.stderr"
   ]
  },
  {
   "cell_type": "markdown",
   "id": "f5b07c74-133b-4f34-babb-d89a08952f6a",
   "metadata": {},
   "source": [
    "### Polling\n",
    "\n",
    "The function described above will run the pipeline and wait while it does, with the completed Execution being returned only at the end.\n",
    "\n",
    "An alternate method is to use run\\_and\\_poll, which returns an Execution object every few seconds representing the state of the pipeline execution at that moment in time, as a generator:\n",
    "\n",
    "```\n",
    "for execution in pipeline.run_and_poll(sleep=2, run_path=\"./rundir\", params={\"param1\": \"123\"}):\n",
    "    print(\"Processing intermediate execution\")\n",
    "```\n",
    "\n",
    "By default, an Execution will be returned every second, but you can adjust this as required with the sleep paramater. This is useful if you want to get information about the progress of the pipeline execution as it proceeds."
   ]
  },
  {
   "cell_type": "code",
   "execution_count": 13,
   "id": "563716c6-cc0f-4d84-aec3-63ba16977a1d",
   "metadata": {},
   "outputs": [],
   "source": [
    "mainnf = '''#!/usr/bin/env nextflow\n",
    "\n",
    "process sayHello {\n",
    "  input: \n",
    "    val x\n",
    "  output:\n",
    "    path 'file.out'\n",
    "  script:\n",
    "    \"\"\"\n",
    "    sleep 10\n",
    "    echo '$x world!' > file.out\n",
    "    \"\"\"\n",
    "}\n",
    "\n",
    "workflow {\n",
    "  Channel.of('Bonjour', 'Ciao', 'Hello', 'Hola') | sayHello | view\n",
    "}\n",
    "'''\n",
    "with open('main.nf', 'w') as mainnf_file:\n",
    "    mainnf_file.write(mainnf)"
   ]
  },
  {
   "cell_type": "markdown",
   "id": "17addf2e-56df-404e-bbdb-605d2db5e3db",
   "metadata": {},
   "source": [
    "The code chunk here will run, polling every 2 seconds."
   ]
  },
  {
   "cell_type": "code",
   "execution_count": 14,
   "id": "5fdf7cc0-a950-48be-b738-4c51df53990b",
   "metadata": {},
   "outputs": [
    {
     "name": "stdout",
     "output_type": "stream",
     "text": [
      "Processing intermediate execution\n",
      "[]\n",
      "0/0\n",
      "Processing intermediate execution\n",
      "[<ProcessExecution from prickly_montalcini: sayHello (3)>, <ProcessExecution from prickly_montalcini: sayHello (4)>, <ProcessExecution from prickly_montalcini: sayHello (1)>, <ProcessExecution from prickly_montalcini: sayHello (2)>]\n",
      "0/4\n",
      "(0.0\n",
      "Processing intermediate execution\n",
      "[<ProcessExecution from prickly_montalcini: sayHello (3)>, <ProcessExecution from prickly_montalcini: sayHello (4)>, <ProcessExecution from prickly_montalcini: sayHello (1)>, <ProcessExecution from prickly_montalcini: sayHello (2)>]\n",
      "0/4\n",
      "(0.0\n",
      "Processing intermediate execution\n",
      "[<ProcessExecution from prickly_montalcini: sayHello (3)>, <ProcessExecution from prickly_montalcini: sayHello (4)>, <ProcessExecution from prickly_montalcini: sayHello (1)>, <ProcessExecution from prickly_montalcini: sayHello (2)>]\n",
      "0/4\n",
      "(0.0\n",
      "Processing intermediate execution\n",
      "[<ProcessExecution from prickly_montalcini: sayHello (3)>, <ProcessExecution from prickly_montalcini: sayHello (4)>, <ProcessExecution from prickly_montalcini: sayHello (1)>, <ProcessExecution from prickly_montalcini: sayHello (2)>]\n",
      "0/4\n",
      "(0.0\n",
      "Processing intermediate execution\n",
      "[<ProcessExecution from prickly_montalcini: sayHello (3)>, <ProcessExecution from prickly_montalcini: sayHello (4)>, <ProcessExecution from prickly_montalcini: sayHello (1)>, <ProcessExecution from prickly_montalcini: sayHello (2)>]\n",
      "0/4\n",
      "(0.0\n",
      "Processing intermediate execution\n",
      "[<ProcessExecution from prickly_montalcini: sayHello (3)>, <ProcessExecution from prickly_montalcini: sayHello (4)>, <ProcessExecution from prickly_montalcini: sayHello (1)>, <ProcessExecution from prickly_montalcini: sayHello (2)>]\n",
      "4/4\n",
      "(1.0\n"
     ]
    }
   ],
   "source": [
    "for execution in pipeline.run_and_poll('main.nf', sleep=2, params={\"param1\": \"123\"}):\n",
    "    print(\"Processing intermediate execution\")\n",
    "    print(execution.process_executions)\n",
    "    tot=0\n",
    "    fin=0\n",
    "    for pe in execution.process_executions:\n",
    "        tot+=1\n",
    "        if pe.returncode!='':\n",
    "            fin+=1\n",
    "    print(f\"{fin}/{tot}\")\n",
    "    if tot > 0:\n",
    "        print(f\"({fin/tot}\")"
   ]
  },
  {
   "cell_type": "markdown",
   "id": "a41e6172-caf6-46dd-b097-3460b45e6f6c",
   "metadata": {},
   "source": [
    "### Executions\n",
    "\n",
    "An Execution represents a single execution of a pipeline. It has properties for:\n",
    "\n",
    "-   identifier - The unique ID of that run, generated by Nextflow.  \n",
    "-   started - When the pipeline ran (as a Python datetime).\n",
    "-   finished - When the pipeline completed (as a Python datetime).\n",
    "-   duration - how long the pipeline ran for (if finished).\n",
    "-   status - the status Nextflow reports on completion.\n",
    "-   command - the command used to run the pipeline.\n",
    "-   stdout - the stdout of the execution process.\n",
    "-   stderr - the stderr of the execution process.\n",
    "-   log - the full text of the log file produced.\n",
    "-   return\\_code - the exit code of the run - usually 0 or 1.\n",
    "-   path - the path to the execution directory.\n",
    "\n"
   ]
  },
  {
   "cell_type": "code",
   "execution_count": 15,
   "id": "0a7713ea-eace-4eaf-83c3-81f2c5e5a05c",
   "metadata": {},
   "outputs": [],
   "source": [
    "pe1 = execution.process_executions[0]"
   ]
  },
  {
   "cell_type": "markdown",
   "id": "46c8c47e-f058-4e4a-915a-1eb995404c07",
   "metadata": {},
   "source": [
    "It also has a process\\_executions property, which is a list of ProcessExecution objects. Nextflow processes data by chaining together isolated ‘processes’, and each of these has a ProcessExecution object representing its execution. These have the following properties:\n",
    "\n",
    "-   identifier - The unique ID generated by Nextflow, of the form xx/xxxxxx.\n",
    "-   process - The name of the process that spawned the process execution.\n",
    "-   name - The name of this specific process execution.\n",
    "-   status - the status Nextflow reports on completion.\n",
    "-   stdout - the stdout of the process execution.\n",
    "-   stderr - the stderr of the process execution.\n",
    "-   started - When the process execution ran (as a Python datetime).\n",
    "-   finished - When the process execution completed (as a Python datetime).\n",
    "-   duration - how long the process execution took in seconds.\n",
    "-   return\\_code - the exit code of the process execution - usually 0 or 1.\n",
    "-   path - the local path to the process execution directory.\n",
    "-   full\\_path - the absolute path to the process execution directory.\n",
    "-   bash - the bash file contents generated for the process execution.\n"
   ]
  },
  {
   "cell_type": "code",
   "execution_count": 16,
   "id": "85c0588c-5d98-4c93-8c4a-748ab2917c33",
   "metadata": {},
   "outputs": [],
   "source": [
    "attributes = \"process name hash status stdout stderr started started_string started_dt duration returncode bash\"\n",
    "records = []\n",
    "for i in attributes.split():\n",
    "    d={}\n",
    "    d['name']=i\n",
    "    d['value']=getattr(pe1,i)\n",
    "    records.append(d)"
   ]
  },
  {
   "cell_type": "markdown",
   "id": "3d8464f4-2d2f-43ef-b74a-a581c009ee13",
   "metadata": {},
   "source": [
    "Process executions can have various files passed to them, and will create files during their execution too. These can be obtained as follows:\n",
    "\n",
    "```process_execution.input_data() # Full absolute paths\n",
    "process_execution.input_data(include_path=False) # Just file names\n",
    "process_execution.all_output_data() # Full absolute paths\n",
    "process_execution.all_output_data(include_path=False) # Just file names\n",
    "```"
   ]
  },
  {
   "cell_type": "code",
   "execution_count": 17,
   "id": "9be7c596-0acc-48fd-8067-bd6d4675cdc3",
   "metadata": {},
   "outputs": [
    {
     "data": {
      "text/html": [
       "<div>\n",
       "<style scoped>\n",
       "    .dataframe tbody tr th:only-of-type {\n",
       "        vertical-align: middle;\n",
       "    }\n",
       "\n",
       "    .dataframe tbody tr th {\n",
       "        vertical-align: top;\n",
       "    }\n",
       "\n",
       "    .dataframe thead th {\n",
       "        text-align: right;\n",
       "    }\n",
       "</style>\n",
       "<table border=\"1\" class=\"dataframe\">\n",
       "  <thead>\n",
       "    <tr style=\"text-align: right;\">\n",
       "      <th></th>\n",
       "      <th>name</th>\n",
       "      <th>value</th>\n",
       "    </tr>\n",
       "  </thead>\n",
       "  <tbody>\n",
       "    <tr>\n",
       "      <th>0</th>\n",
       "      <td>process</td>\n",
       "      <td>sayHello</td>\n",
       "    </tr>\n",
       "    <tr>\n",
       "      <th>1</th>\n",
       "      <td>name</td>\n",
       "      <td>sayHello (3)</td>\n",
       "    </tr>\n",
       "    <tr>\n",
       "      <th>2</th>\n",
       "      <td>hash</td>\n",
       "      <td>b0/2350fb</td>\n",
       "    </tr>\n",
       "    <tr>\n",
       "      <th>3</th>\n",
       "      <td>status</td>\n",
       "      <td>COMPLETED</td>\n",
       "    </tr>\n",
       "    <tr>\n",
       "      <th>4</th>\n",
       "      <td>stdout</td>\n",
       "      <td></td>\n",
       "    </tr>\n",
       "    <tr>\n",
       "      <th>5</th>\n",
       "      <td>stderr</td>\n",
       "      <td></td>\n",
       "    </tr>\n",
       "    <tr>\n",
       "      <th>6</th>\n",
       "      <td>started</td>\n",
       "      <td>1703938149.997</td>\n",
       "    </tr>\n",
       "    <tr>\n",
       "      <th>7</th>\n",
       "      <td>started_string</td>\n",
       "      <td>Dec-30 07:09:09.997</td>\n",
       "    </tr>\n",
       "    <tr>\n",
       "      <th>8</th>\n",
       "      <td>started_dt</td>\n",
       "      <td>2023-12-30 07:09:09.997000</td>\n",
       "    </tr>\n",
       "    <tr>\n",
       "      <th>9</th>\n",
       "      <td>duration</td>\n",
       "      <td>10.123</td>\n",
       "    </tr>\n",
       "    <tr>\n",
       "      <th>10</th>\n",
       "      <td>returncode</td>\n",
       "      <td>0</td>\n",
       "    </tr>\n",
       "    <tr>\n",
       "      <th>11</th>\n",
       "      <td>bash</td>\n",
       "      <td>#!/bin/bash -ue\\nsleep 10\\necho 'Hello world!'...</td>\n",
       "    </tr>\n",
       "    <tr>\n",
       "      <th>12</th>\n",
       "      <td>input_data</td>\n",
       "      <td>[]</td>\n",
       "    </tr>\n",
       "    <tr>\n",
       "      <th>13</th>\n",
       "      <td>all_output_data</td>\n",
       "      <td>['/Users/seandavis/Documents/git/notebooks/wor...</td>\n",
       "    </tr>\n",
       "  </tbody>\n",
       "</table>\n",
       "</div>"
      ],
      "text/plain": [
       "               name                                              value\n",
       "0           process                                           sayHello\n",
       "1              name                                       sayHello (3)\n",
       "2              hash                                          b0/2350fb\n",
       "3            status                                          COMPLETED\n",
       "4            stdout                                                   \n",
       "5            stderr                                                   \n",
       "6           started                                     1703938149.997\n",
       "7    started_string                                Dec-30 07:09:09.997\n",
       "8        started_dt                         2023-12-30 07:09:09.997000\n",
       "9          duration                                             10.123\n",
       "10       returncode                                                  0\n",
       "11             bash  #!/bin/bash -ue\\nsleep 10\\necho 'Hello world!'...\n",
       "12       input_data                                                 []\n",
       "13  all_output_data  ['/Users/seandavis/Documents/git/notebooks/wor..."
      ]
     },
     "execution_count": 17,
     "metadata": {},
     "output_type": "execute_result"
    }
   ],
   "source": [
    "for i in ['input_data', 'all_output_data']:\n",
    "    d={}\n",
    "    d['name']=i\n",
    "    d['value']=str(getattr(pe1,i)())\n",
    "    records.append(d)\n",
    "df = pd.DataFrame(records)\n",
    "df"
   ]
  },
  {
   "cell_type": "code",
   "execution_count": null,
   "id": "679c8e5e-6b69-4ab2-a875-65fb2bc9406c",
   "metadata": {},
   "outputs": [],
   "source": []
  }
 ],
 "metadata": {
  "kernelspec": {
   "display_name": "Python 3 (ipykernel)",
   "language": "python",
   "name": "python3"
  },
  "language_info": {
   "codemirror_mode": {
    "name": "ipython",
    "version": 3
   },
   "file_extension": ".py",
   "mimetype": "text/x-python",
   "name": "python",
   "nbconvert_exporter": "python",
   "pygments_lexer": "ipython3",
   "version": "3.11.1"
  }
 },
 "nbformat": 4,
 "nbformat_minor": 5
}
